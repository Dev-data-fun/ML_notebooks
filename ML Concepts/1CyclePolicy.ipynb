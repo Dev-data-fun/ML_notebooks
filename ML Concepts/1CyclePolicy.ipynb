{
  "nbformat": 4,
  "nbformat_minor": 0,
  "metadata": {
    "colab": {
      "name": "1CyclePolicy.ipynb",
      "provenance": [],
      "collapsed_sections": []
    },
    "kernelspec": {
      "name": "python3",
      "display_name": "Python 3"
    },
    "accelerator": "GPU"
  },
  "cells": [
    {
      "cell_type": "markdown",
      "metadata": {
        "id": "6gbqwrxbXcqV",
        "colab_type": "text"
      },
      "source": [
        "## 1-cycle learning\n",
        "\n",
        "This notebook covers the 1-cycle policy developed by Leslie Smith in which an optimal LR is chosen and we then train our network with a low LR and high momentum while increasing the LR to the optimal value whilst decreasing momentum. Then, we decrease LR again whilst increasing the momentum."
      ]
    },
    {
      "cell_type": "code",
      "metadata": {
        "id": "_O_wdv5uciUs",
        "colab_type": "code",
        "colab": {}
      },
      "source": [
        "try:\n",
        "  %tensorflow_version 2.x\n",
        "except Exception:\n",
        "  pass\n",
        "import tensorflow as tf\n",
        "import numpy as np\n",
        "import matplotlib.pyplot as plt\n",
        "import logging\n",
        "import zipfile\n",
        "import os\n",
        "import matplotlib.pyplot as plt\n",
        "\n",
        "from tensorflow.keras.preprocessing.image import ImageDataGenerator\n",
        "from tensorflow import keras as k\n",
        "\n",
        "from tensorflow.keras.models import Sequential\n",
        "from tensorflow.keras.layers import Dense, Conv2D, Flatten, Dropout, MaxPooling2D\n",
        "from tensorflow.keras.preprocessing.image import ImageDataGenerator"
      ],
      "execution_count": 0,
      "outputs": []
    },
    {
      "cell_type": "markdown",
      "metadata": {
        "id": "ruinPONUBPnB",
        "colab_type": "text"
      },
      "source": [
        "We define a callback to find the optimal learning rate as follows...\n",
        "\n",
        "We begin SGD with a very low LR (1e-7 here) which is adjusted (through multiplication) at each mini-batch until we reach a high LR. The loss is recorded for each LR and plotted at the end so we can visually decide on the optimal learning rate.\n",
        "\n",
        "However we don't just simply plot the loss, as this is erratic and would be difficult to discern an optimal value from. We instead plot a smoothed version of the loss by taking their exponentially weighted averages (much like in SGD with momentum) as such:\n",
        "\n",
        "> $avg\\_loss_i$ $=$ $\\beta$ $*$ $avg\\_loss_{i-1}$ $+$ $(1-\\beta)$ $*$ $loss_i$\n",
        "\n",
        "where $\\beta \\in (0,1)$ is the smoothing parameter. This gives\n",
        "\n",
        "> $avg\\_loss_i$ $=$ $\\beta$ $*$ $avg\\_loss_{i-1}$ $+$ $(1-\\beta)$ $*$ $loss_i$ \n",
        "\n",
        ">$=$ $\\beta^2$ $*$ $avg\\_loss_{i-2}$ $+$ $(1-\\beta)$ $*$ $loss_{i-1}$ $+$ $\\beta$ $*$ $loss_i$ \n",
        "\n",
        ">$...$\n",
        "\n",
        "> $=$ $(1-\\beta)\\beta^i loss_0 + (1-\\beta)\\beta^{i-1} loss_1 + ... + (1-\\beta)\\beta loss_{i-1} + (1-\\beta)loss_i$\n",
        "\n",
        "so our weights are all powers of $\\beta$, then from the sum of a geometric sequence we have our weight sum as:\n",
        "\n",
        "> $(1-\\beta)$ $*$ $\\frac{1-\\beta^{i+1}}{1-\\beta}=1-\\beta^{i+1}$\n",
        "\n",
        "We then divide our average loss by this value to obtain the smoothed loss, that is:\n",
        "\n",
        "> $smoothed\\_loss_i$ $=$ $\\frac{avg\\_loss_i}{1-\\beta^{i+1}}$\n",
        "\n",
        "We are interested in obtaining an ideal LR, so we should stop when the loss explodes, the following criteria is used in the FastAI library:\n",
        "\n",
        "> $current$ $smoothed\\_loss$ $> 4 \\times $ $minimum$ $smoothed\\_loss$\n",
        "\n",
        "Now to calculate the factor we multiply our learning rate by after each batch. Suppose our initial LR is $lr_0$ and the final LR is $lr_i$ and we multiply by a factor of $q$ each time. Then:\n",
        "\n",
        "> $lr_i = lr_0 \\times q^i$\n",
        "\n",
        "Now solving for $q$ gives:\n",
        "\n",
        "> $q^i=\\frac{lr_i}{lr_0} \\iff q = (\\frac{lr_i}{lr_0})^{\\frac{1}{i}}$\n",
        "\n",
        "With this we are ready to define the callback.\n",
        "\n",
        "\n",
        "\n",
        "\n"
      ]
    },
    {
      "cell_type": "code",
      "metadata": {
        "id": "_-ZcEy0vBQtn",
        "colab_type": "code",
        "colab": {}
      },
      "source": [
        "class LRFinder(tf.keras.callbacks.Callback):\n",
        "\n",
        "  def __init__(self, start_lr = 1e-7, end_lr = 10, max_steps = 100, sf = 0.9):\n",
        "    super(LRFinder, self).__init__()\n",
        "    self.start_lr, self.end_lr = start_lr, end_lr\n",
        "    self.max_steps = max_steps\n",
        "    self.sf = sf\n",
        "    self.step, self.best_loss, self.avg_loss, self.lr = 0, 0, 0, 0\n",
        "    self.lrs, self.losses = [], []\n",
        "\n",
        "  def on_train_begin(self, logs=None):\n",
        "    # Zero values on train begin\n",
        "    self.step, self.best_loss, self.avg_loss, self.lr = 0, 0, 0, 0\n",
        "    self.lrs, self.losses = [], []\n",
        "\n",
        "  def on_train_batch_begin(self, batch, logs=None):\n",
        "    # After each batch update LR\n",
        "    self.lr = self.lr_anneal(self.step)\n",
        "    tf.keras.backend.set_value(self.model.optimizer.lr, self.lr)\n",
        "\n",
        "  def on_train_batch_end(self, batch, logs=None):\n",
        "    logs = logs or {}\n",
        "    loss = logs.get('loss')\n",
        "    if loss:\n",
        "      # Calculate average loss as exponential weighted average\n",
        "      self.avg_loss = self.sf * self.avg_loss + (1 - self.sf) * loss\n",
        "      # Divide by sum of weights to obtain smoothed loss\n",
        "      smooth_loss = self.avg_loss / (1 - self.sf ** (self.step + 1))\n",
        "      self.losses.append(smooth_loss)\n",
        "      self.lrs.append(self.lr)\n",
        "\n",
        "      if self.step == 0 or loss < self.best_loss:\n",
        "        # Update if loss has decreased\n",
        "        self.best_loss = loss\n",
        "\n",
        "      if smooth_loss > 4 * self.best_loss or tf.math.is_nan(smooth_loss):\n",
        "        # Stop when loss explodes\n",
        "        self.model.stop_training = True\n",
        "\n",
        "    if self.step == self.max_steps:\n",
        "      # Stop when reached max_steps\n",
        "      self.model.stop_training = True\n",
        "\n",
        "    self.step += 1\n",
        "\n",
        "  def lr_anneal(self, step):\n",
        "    # Return next LR (multiply by the q in above explanation)\n",
        "    return self.start_lr * (self.end_lr / self.start_lr) ** (step * 1. / self.max_steps)\n",
        "\n",
        "  def plot(self, cutoff = None):\n",
        "    fig, ax = plt.subplots(1, 1)\n",
        "    ax.set_ylabel('Loss')\n",
        "    ax.set_xlabel('Learning Rate')\n",
        "    ax.set_xscale('log')\n",
        "    ax.xaxis.set_major_formatter(plt.FormatStrFormatter('%.0e'))\n",
        "    if cutoff:\n",
        "      ax.plot(self.lrs[:-cutoff], self.losses[:-cutoff])\n",
        "\n",
        "    else:\n",
        "      ax.plot(self.lrs, self.losses)"
      ],
      "execution_count": 0,
      "outputs": []
    },
    {
      "cell_type": "markdown",
      "metadata": {
        "id": "fnpwd2XZMGG2",
        "colab_type": "text"
      },
      "source": [
        "With the above callback calculating our optimal LR, we now define a callback to implement the 1-cycle policy which is described as such:\n",
        "\n",
        "\n",
        "1.   Select a LR from the LR finder and a max and min momentum\n",
        "2.   Begin phase 1: Divide the LR by some factor and begin training with this value and the lower momentum. Gradually increase the LR to the chosen value whilst decreasing the momentum to the minimum using cosine annealing.\n",
        "3. Begin phase 2: Decrease the LR to approx. 0 whilst increasing momentum to maximum.\n",
        "\n",
        "This simple procedure leads to the phenomenon of super-convergence in which a neural net can be trained orders of magniture faster than usual."
      ]
    },
    {
      "cell_type": "code",
      "metadata": {
        "id": "cXRe2ujKL3m6",
        "colab_type": "code",
        "colab": {}
      },
      "source": [
        "class CosineAnnealer:\n",
        "  # Anneal according to half a cosine period\n",
        "  def __init__(self, start, end, steps):\n",
        "    self.start = start\n",
        "    self.end = end\n",
        "    self.steps = steps\n",
        "    self.n = 0\n",
        "        \n",
        "  def step(self):\n",
        "    self.n += 1\n",
        "    cos = np.cos(np.pi * (self.n / self.steps)) + 1\n",
        "    return self.end + (self.start - self.end) / 2. * cos\n",
        "\n",
        "\n",
        "class OneCycleScheduler(Callback):\n",
        "\n",
        "  def __init__(self, lr_max, steps, mom_min=0.85, mom_max=0.95, phase_1_pct=0.3, div_factor=25.):\n",
        "    super(OneCycleScheduler, self).__init__()\n",
        "    # Phase 1 initial LR\n",
        "    lr_min = lr_max / div_factor\n",
        "    # Phase 2 final LR\n",
        "    final_lr = lr_max / (div_factor * 1e4)\n",
        "    # Phases do not need to be of equal steps\n",
        "    phase_1_steps = steps * phase_1_pct\n",
        "    phase_2_steps = steps - phase_1_steps\n",
        "        \n",
        "    self.phase_1_steps = phase_1_steps\n",
        "    self.phase_2_steps = phase_2_steps\n",
        "    self.phase = 0\n",
        "    self.step = 0\n",
        "        \n",
        "    # Get annealed values for LR and momentum using the CosineAnnealer class\n",
        "    self.phases = [[CosineAnnealer(lr_min, lr_max, phase_1_steps), CosineAnnealer(mom_max, mom_min, phase_1_steps)], \n",
        "                 [CosineAnnealer(lr_max, final_lr, phase_2_steps), CosineAnnealer(mom_min, mom_max, phase_2_steps)]]\n",
        "        \n",
        "    #self.lrs = []\n",
        "    #self.moms = []\n",
        "\n",
        "  def on_train_begin(self, logs=None):\n",
        "    self.phase = 0\n",
        "    self.step = 0\n",
        "    # Begin lr and momentum annealing schedules\n",
        "    self.set_lr(self.lr_schedule().start)\n",
        "    self.set_momentum(self.mom_schedule().start)\n",
        "        \n",
        "  #def on_train_batch_begin(self, batch, logs=None):\n",
        "    # store LR and mom for plotting\n",
        "    #self.lrs.append(self.get_lr())\n",
        "    #self.moms.append(self.get_momentum())\n",
        "\n",
        "  def on_train_batch_end(self, batch, logs=None):\n",
        "    self.step += 1\n",
        "    if self.step >= self.phase_1_steps:\n",
        "      # Switch to phase 2\n",
        "      self.phase = 1\n",
        "    # Update LR and mom\n",
        "    self.set_lr(self.lr_schedule().step())\n",
        "    self.set_momentum(self.mom_schedule().step())\n",
        "        \n",
        "  def get_lr(self):\n",
        "    try:\n",
        "      return tf.keras.backend.get_value(self.model.optimizer.lr)\n",
        "    except AttributeError:\n",
        "      return None\n",
        "        \n",
        "  def get_momentum(self):\n",
        "    try:\n",
        "      return tf.keras.backend.get_value(self.model.optimizer.momentum)\n",
        "    except AttributeError:\n",
        "      return None\n",
        "        \n",
        "  def set_lr(self, lr):\n",
        "    try:\n",
        "        tf.keras.backend.set_value(self.model.optimizer.lr, lr)\n",
        "    except AttributeError:\n",
        "        pass \n",
        "        \n",
        "  def set_momentum(self, mom):\n",
        "    try:\n",
        "      tf.keras.backend.set_value(self.model.optimizer.momentum, mom)\n",
        "    except AttributeError:\n",
        "      pass \n",
        "\n",
        "  def lr_schedule(self):\n",
        "    return self.phases[self.phase][0]\n",
        "    \n",
        "  def mom_schedule(self):\n",
        "    return self.phases[self.phase][1]\n",
        "    \n",
        "  #def plot(self):\n",
        "   # ax = plt.subplot(1, 2, 1)\n",
        "    #ax.plot(self.lrs)\n",
        "    #ax.set_title('Learning Rate')\n",
        "    #ax = plt.subplot(1, 2, 2)\n",
        "    #ax.plot(self.moms)\n",
        "    #ax.set_title('Momentum')"
      ],
      "execution_count": 0,
      "outputs": []
    },
    {
      "cell_type": "code",
      "metadata": {
        "colab_type": "code",
        "id": "IEjexscR-uyd",
        "colab": {}
      },
      "source": [
        "_URL = 'https://storage.googleapis.com/mledu-datasets/cats_and_dogs_filtered.zip'\n",
        "\n",
        "path_to_zip = tf.keras.utils.get_file('cats_and_dogs.zip', origin=_URL, extract=True)\n",
        "\n",
        "PATH = os.path.join(os.path.dirname(path_to_zip), 'cats_and_dogs_filtered')"
      ],
      "execution_count": 0,
      "outputs": []
    },
    {
      "cell_type": "code",
      "metadata": {
        "colab_type": "code",
        "id": "AQgFmELd-uXf",
        "colab": {}
      },
      "source": [
        "train_dir = os.path.join(PATH, 'train')\n",
        "validation_dir = os.path.join(PATH, 'validation')"
      ],
      "execution_count": 0,
      "outputs": []
    },
    {
      "cell_type": "code",
      "metadata": {
        "colab_type": "code",
        "id": "MSXnAGq8-uKc",
        "colab": {}
      },
      "source": [
        "train_cats_dir = os.path.join(train_dir, 'cats')  # directory with our training cat pictures\n",
        "train_dogs_dir = os.path.join(train_dir, 'dogs')  # directory with our training dog pictures\n",
        "validation_cats_dir = os.path.join(validation_dir, 'cats')  # directory with our validation cat pictures\n",
        "validation_dogs_dir = os.path.join(validation_dir, 'dogs')  # directory with our validation dog pictures"
      ],
      "execution_count": 0,
      "outputs": []
    },
    {
      "cell_type": "code",
      "metadata": {
        "colab_type": "code",
        "id": "D8ENZUw6-tuu",
        "colab": {}
      },
      "source": [
        "num_cats_tr = len(os.listdir(train_cats_dir))\n",
        "num_dogs_tr = len(os.listdir(train_dogs_dir))\n",
        "\n",
        "num_cats_val = len(os.listdir(validation_cats_dir))\n",
        "num_dogs_val = len(os.listdir(validation_dogs_dir))\n",
        "\n",
        "total_train = num_cats_tr + num_dogs_tr\n",
        "total_val = num_cats_val + num_dogs_val"
      ],
      "execution_count": 0,
      "outputs": []
    },
    {
      "cell_type": "code",
      "metadata": {
        "colab_type": "code",
        "id": "oMUsB2MU-tL9",
        "colab": {}
      },
      "source": [
        "batch_size = 128\n",
        "epochs = 15\n",
        "IMG_HEIGHT = 150\n",
        "IMG_WIDTH = 150\n"
      ],
      "execution_count": 0,
      "outputs": []
    },
    {
      "cell_type": "code",
      "metadata": {
        "colab_type": "code",
        "id": "SWVr3IEK-suq",
        "colab": {}
      },
      "source": [
        "train_image_generator = ImageDataGenerator(rescale=1./255) # Generator for our training data\n",
        "validation_image_generator = ImageDataGenerator(rescale=1./255) # Generator for our validation data\n"
      ],
      "execution_count": 0,
      "outputs": []
    },
    {
      "cell_type": "code",
      "metadata": {
        "colab_type": "code",
        "outputId": "da639601-9710-4f97-a29e-3442f84309f6",
        "id": "ZDUXDTgm-sPG",
        "colab": {
          "base_uri": "https://localhost:8080/",
          "height": 52
        }
      },
      "source": [
        "train_data_gen = train_image_generator.flow_from_directory(batch_size=batch_size,\n",
        "                                                           directory=train_dir,\n",
        "                                                           shuffle=True,\n",
        "                                                           target_size=(IMG_HEIGHT, IMG_WIDTH),\n",
        "                                                           class_mode='binary')\n",
        "\n",
        "val_data_gen = validation_image_generator.flow_from_directory(batch_size=batch_size,\n",
        "                                                              directory=validation_dir,\n",
        "                                                              target_size=(IMG_HEIGHT, IMG_WIDTH),\n",
        "                                                              class_mode='binary')\n"
      ],
      "execution_count": 247,
      "outputs": [
        {
          "output_type": "stream",
          "text": [
            "Found 2000 images belonging to 2 classes.\n",
            "Found 1000 images belonging to 2 classes.\n"
          ],
          "name": "stdout"
        }
      ]
    },
    {
      "cell_type": "code",
      "metadata": {
        "colab_type": "code",
        "id": "d9Yfu_VV-sAY",
        "colab": {}
      },
      "source": [
        "def build_model(): \n",
        "  model = Sequential([\n",
        "      Conv2D(16, 3, padding='same', activation='relu', input_shape=(IMG_HEIGHT, IMG_WIDTH ,3)),\n",
        "      MaxPooling2D(),\n",
        "      Conv2D(32, 3, padding='same', activation='relu'),\n",
        "      MaxPooling2D(),\n",
        "      Conv2D(64, 3, padding='same', activation='relu'),\n",
        "      MaxPooling2D(),\n",
        "      Flatten(),\n",
        "      Dense(512, activation='relu'),\n",
        "      Dense(1)\n",
        "  ])\n",
        "\n",
        "  return model"
      ],
      "execution_count": 0,
      "outputs": []
    },
    {
      "cell_type": "code",
      "metadata": {
        "id": "o3_oaiKKRhUl",
        "colab_type": "code",
        "colab": {}
      },
      "source": [
        "model = build_model()\n",
        "\n",
        "model.compile(optimizer='adam',\n",
        "              loss=tf.keras.losses.BinaryCrossentropy(from_logits=True),\n",
        "              metrics=['accuracy'])"
      ],
      "execution_count": 0,
      "outputs": []
    },
    {
      "cell_type": "code",
      "metadata": {
        "id": "04hJYkplRt3M",
        "colab_type": "code",
        "colab": {}
      },
      "source": [
        "lr_finder = LRFinder()"
      ],
      "execution_count": 0,
      "outputs": []
    },
    {
      "cell_type": "code",
      "metadata": {
        "id": "QX0FZVOoRsjs",
        "colab_type": "code",
        "colab": {
          "base_uri": "https://localhost:8080/",
          "height": 156
        },
        "outputId": "95ebc616-0352-4f3d-a988-b8403cef3092"
      },
      "source": [
        "_ = model.fit(\n",
        "    train_data_gen,\n",
        "    steps_per_epoch=total_train // batch_size,\n",
        "    epochs=5,\n",
        "    callbacks=[lr_finder],\n",
        "    verbose=0\n",
        ")"
      ],
      "execution_count": 300,
      "outputs": [
        {
          "output_type": "stream",
          "text": [
            "WARNING:tensorflow:sample_weight modes were coerced from\n",
            "  ...\n",
            "    to  \n",
            "  ['...']\n"
          ],
          "name": "stdout"
        },
        {
          "output_type": "stream",
          "text": [
            "WARNING:tensorflow:sample_weight modes were coerced from\n",
            "  ...\n",
            "    to  \n",
            "  ['...']\n"
          ],
          "name": "stderr"
        }
      ]
    },
    {
      "cell_type": "code",
      "metadata": {
        "id": "ZwYiDoGzSF1E",
        "colab_type": "code",
        "colab": {
          "base_uri": "https://localhost:8080/",
          "height": 279
        },
        "outputId": "2505c9d7-341b-4702-bd1d-da455dfb13c4"
      },
      "source": [
        "lr_finder.plot()"
      ],
      "execution_count": 301,
      "outputs": [
        {
          "output_type": "display_data",
          "data": {
            "image/png": "[encoded data removed]",
            "text/plain": [
              "<Figure size 432x288 with 1 Axes>"
            ]
          },
          "metadata": {
            "tags": []
          }
        }
      ]
    },
    {
      "cell_type": "code",
      "metadata": {
        "id": "Fw16yzgIUxW2",
        "colab_type": "code",
        "colab": {}
      },
      "source": [
        "model = build_model()"
      ],
      "execution_count": 0,
      "outputs": []
    },
    {
      "cell_type": "code",
      "metadata": {
        "id": "q1fOdGjqUxwV",
        "colab_type": "code",
        "colab": {}
      },
      "source": [
        "model.compile(optimizer='adam',\n",
        "              loss=tf.keras.losses.BinaryCrossentropy(from_logits=True),\n",
        "              metrics=['accuracy'])"
      ],
      "execution_count": 0,
      "outputs": []
    },
    {
      "cell_type": "code",
      "metadata": {
        "id": "Pl4aE76wU5ix",
        "colab_type": "code",
        "colab": {}
      },
      "source": [
        "epochs = 10\n",
        "lr = 2e-3\n",
        "steps = np.ceil(total_train  / batch_size) * epochs\n",
        "lr_schedule = OneCycleScheduler(lr, steps)"
      ],
      "execution_count": 0,
      "outputs": []
    },
    {
      "cell_type": "code",
      "metadata": {
        "id": "M4VW7ookU5k9",
        "colab_type": "code",
        "colab": {
          "base_uri": "https://localhost:8080/",
          "height": 660
        },
        "outputId": "d00496d5-9ecd-4033-ba2d-fe7c36bfe557"
      },
      "source": [
        "history = model.fit(\n",
        "    train_data_gen,\n",
        "    steps_per_epoch=total_train // batch_size,\n",
        "    epochs=epochs,\n",
        "    validation_data=val_data_gen,\n",
        "    validation_steps=total_val // batch_size,\n",
        "    callbacks=[lr_schedule]\n",
        ")"
      ],
      "execution_count": 305,
      "outputs": [
        {
          "output_type": "stream",
          "text": [
            "WARNING:tensorflow:sample_weight modes were coerced from\n",
            "  ...\n",
            "    to  \n",
            "  ['...']\n"
          ],
          "name": "stdout"
        },
        {
          "output_type": "stream",
          "text": [
            "WARNING:tensorflow:sample_weight modes were coerced from\n",
            "  ...\n",
            "    to  \n",
            "  ['...']\n"
          ],
          "name": "stderr"
        },
        {
          "output_type": "stream",
          "text": [
            "WARNING:tensorflow:sample_weight modes were coerced from\n",
            "  ...\n",
            "    to  \n",
            "  ['...']\n"
          ],
          "name": "stdout"
        },
        {
          "output_type": "stream",
          "text": [
            "WARNING:tensorflow:sample_weight modes were coerced from\n",
            "  ...\n",
            "    to  \n",
            "  ['...']\n"
          ],
          "name": "stderr"
        },
        {
          "output_type": "stream",
          "text": [
            "Train for 15 steps, validate for 7 steps\n",
            "Epoch 1/10\n",
            "15/15 [==============================] - 8s 507ms/step - loss: 0.7045 - accuracy: 0.5224 - val_loss: 0.7020 - val_accuracy: 0.4967\n",
            "Epoch 2/10\n",
            "15/15 [==============================] - 7s 492ms/step - loss: 0.6541 - accuracy: 0.5807 - val_loss: 0.6328 - val_accuracy: 0.6775\n",
            "Epoch 3/10\n",
            "15/15 [==============================] - 7s 497ms/step - loss: 0.5844 - accuracy: 0.6859 - val_loss: 0.6306 - val_accuracy: 0.6730\n",
            "Epoch 4/10\n",
            "15/15 [==============================] - 7s 491ms/step - loss: 0.5038 - accuracy: 0.7441 - val_loss: 0.5922 - val_accuracy: 0.6964\n",
            "Epoch 5/10\n",
            "15/15 [==============================] - 7s 495ms/step - loss: 0.4299 - accuracy: 0.7874 - val_loss: 0.6111 - val_accuracy: 0.6853\n",
            "Epoch 6/10\n",
            "15/15 [==============================] - 8s 503ms/step - loss: 0.3619 - accuracy: 0.8307 - val_loss: 0.6352 - val_accuracy: 0.6908\n",
            "Epoch 7/10\n",
            "15/15 [==============================] - 8s 502ms/step - loss: 0.2918 - accuracy: 0.8638 - val_loss: 0.7217 - val_accuracy: 0.6674\n",
            "Epoch 8/10\n",
            "15/15 [==============================] - 8s 507ms/step - loss: 0.2215 - accuracy: 0.9049 - val_loss: 0.6880 - val_accuracy: 0.7165\n",
            "Epoch 9/10\n",
            "15/15 [==============================] - 8s 505ms/step - loss: 0.1884 - accuracy: 0.9214 - val_loss: 0.6707 - val_accuracy: 0.7076\n",
            "Epoch 10/10\n",
            "15/15 [==============================] - 7s 488ms/step - loss: 0.1600 - accuracy: 0.9448 - val_loss: 0.6889 - val_accuracy: 0.7154\n"
          ],
          "name": "stdout"
        }
      ]
    },
    {
      "cell_type": "markdown",
      "metadata": {
        "id": "eNQdiJveVQua",
        "colab_type": "text"
      },
      "source": [
        "We can now compare this to just running a model without the above procedures."
      ]
    },
    {
      "cell_type": "code",
      "metadata": {
        "id": "Bki0-C3hSOBo",
        "colab_type": "code",
        "colab": {}
      },
      "source": [
        "model = Sequential([\n",
        "    Conv2D(16, 3, padding='same', activation='relu', input_shape=(IMG_HEIGHT, IMG_WIDTH ,3)),\n",
        "    MaxPooling2D(),\n",
        "    Conv2D(32, 3, padding='same', activation='relu'),\n",
        "    MaxPooling2D(),\n",
        "    Conv2D(64, 3, padding='same', activation='relu'),\n",
        "    MaxPooling2D(),\n",
        "    Flatten(),\n",
        "    Dense(512, activation='relu'),\n",
        "    Dense(1)\n",
        "])"
      ],
      "execution_count": 0,
      "outputs": []
    },
    {
      "cell_type": "code",
      "metadata": {
        "colab_type": "code",
        "id": "qEk3aQaP-ryJ",
        "colab": {}
      },
      "source": [
        "model.compile(optimizer='adam',\n",
        "              loss=tf.keras.losses.BinaryCrossentropy(from_logits=True),\n",
        "              metrics=['accuracy'])"
      ],
      "execution_count": 0,
      "outputs": []
    },
    {
      "cell_type": "code",
      "metadata": {
        "colab_type": "code",
        "outputId": "f27cbddc-d729-4328-a7be-2f22966793be",
        "id": "sc4zPUfp-qbz",
        "colab": {
          "base_uri": "https://localhost:8080/",
          "height": 660
        }
      },
      "source": [
        "history = model.fit(\n",
        "    train_data_gen,\n",
        "    steps_per_epoch=total_train // batch_size,\n",
        "    epochs=epochs,\n",
        "    validation_data=val_data_gen,\n",
        "    validation_steps=total_val // batch_size\n",
        ")\n"
      ],
      "execution_count": 308,
      "outputs": [
        {
          "output_type": "stream",
          "text": [
            "WARNING:tensorflow:sample_weight modes were coerced from\n",
            "  ...\n",
            "    to  \n",
            "  ['...']\n"
          ],
          "name": "stdout"
        },
        {
          "output_type": "stream",
          "text": [
            "WARNING:tensorflow:sample_weight modes were coerced from\n",
            "  ...\n",
            "    to  \n",
            "  ['...']\n"
          ],
          "name": "stderr"
        },
        {
          "output_type": "stream",
          "text": [
            "WARNING:tensorflow:sample_weight modes were coerced from\n",
            "  ...\n",
            "    to  \n",
            "  ['...']\n"
          ],
          "name": "stdout"
        },
        {
          "output_type": "stream",
          "text": [
            "WARNING:tensorflow:sample_weight modes were coerced from\n",
            "  ...\n",
            "    to  \n",
            "  ['...']\n"
          ],
          "name": "stderr"
        },
        {
          "output_type": "stream",
          "text": [
            "Train for 15 steps, validate for 7 steps\n",
            "Epoch 1/10\n",
            "15/15 [==============================] - 8s 506ms/step - loss: 1.0118 - accuracy: 0.5064 - val_loss: 0.6915 - val_accuracy: 0.4967\n",
            "Epoch 2/10\n",
            "15/15 [==============================] - 7s 486ms/step - loss: 0.6791 - accuracy: 0.5032 - val_loss: 0.6712 - val_accuracy: 0.5000\n",
            "Epoch 3/10\n",
            "15/15 [==============================] - 7s 485ms/step - loss: 0.6338 - accuracy: 0.5951 - val_loss: 0.6299 - val_accuracy: 0.6462\n",
            "Epoch 4/10\n",
            "15/15 [==============================] - 7s 488ms/step - loss: 0.5817 - accuracy: 0.6757 - val_loss: 0.6191 - val_accuracy: 0.6317\n",
            "Epoch 5/10\n",
            "15/15 [==============================] - 7s 493ms/step - loss: 0.5371 - accuracy: 0.7137 - val_loss: 0.5945 - val_accuracy: 0.6897\n",
            "Epoch 6/10\n",
            "15/15 [==============================] - 7s 491ms/step - loss: 0.4771 - accuracy: 0.7532 - val_loss: 0.6115 - val_accuracy: 0.6719\n",
            "Epoch 7/10\n",
            "15/15 [==============================] - 7s 483ms/step - loss: 0.4288 - accuracy: 0.7927 - val_loss: 0.5966 - val_accuracy: 0.6786\n",
            "Epoch 8/10\n",
            "15/15 [==============================] - 7s 487ms/step - loss: 0.3908 - accuracy: 0.8034 - val_loss: 0.6156 - val_accuracy: 0.7054\n",
            "Epoch 9/10\n",
            "15/15 [==============================] - 7s 488ms/step - loss: 0.3349 - accuracy: 0.8371 - val_loss: 0.8422 - val_accuracy: 0.6674\n",
            "Epoch 10/10\n",
            "15/15 [==============================] - 7s 483ms/step - loss: 0.3647 - accuracy: 0.8243 - val_loss: 0.6420 - val_accuracy: 0.6819\n"
          ],
          "name": "stdout"
        }
      ]
    },
    {
      "cell_type": "markdown",
      "metadata": {
        "id": "hcZ4TbGMXTFy",
        "colab_type": "text"
      },
      "source": [
        "We can see the 1-cycle policy does indeed allow for quicker convergence."
      ]
    }
  ]
}