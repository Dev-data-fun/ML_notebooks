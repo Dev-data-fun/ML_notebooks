{
  "nbformat": 4,
  "nbformat_minor": 0,
  "metadata": {
    "colab": {
      "name": "DL_part3.ipynb",
      "provenance": [],
      "collapsed_sections": []
    },
    "kernelspec": {
      "name": "python3",
      "display_name": "Python 3"
    },
    "accelerator": "GPU",
    "widgets": {
      "application/vnd.jupyter.widget-state+json": {
        "b83a77c1bfdb4d15a009bd7192f1e9d3": {
          "model_module": "@jupyter-widgets/controls",
          "model_name": "HBoxModel",
          "state": {
            "_view_name": "HBoxView",
            "_dom_classes": [],
            "_model_name": "HBoxModel",
            "_view_module": "@jupyter-widgets/controls",
            "_model_module_version": "1.5.0",
            "_view_count": null,
            "_view_module_version": "1.5.0",
            "box_style": "",
            "layout": "IPY_MODEL_967893d4c8d14a93838d9dbc591de10a",
            "_model_module": "@jupyter-widgets/controls",
            "children": [
              "IPY_MODEL_79cdf42e88d149cab7ac774f18de4657",
              "IPY_MODEL_81f26e5e7dbc43118e313d7715c7a270"
            ]
          }
        },
        "967893d4c8d14a93838d9dbc591de10a": {
          "model_module": "@jupyter-widgets/base",
          "model_name": "LayoutModel",
          "state": {
            "_view_name": "LayoutView",
            "grid_template_rows": null,
            "right": null,
            "justify_content": null,
            "_view_module": "@jupyter-widgets/base",
            "overflow": null,
            "_model_module_version": "1.2.0",
            "_view_count": null,
            "flex_flow": null,
            "width": null,
            "min_width": null,
            "border": null,
            "align_items": null,
            "bottom": null,
            "_model_module": "@jupyter-widgets/base",
            "top": null,
            "grid_column": null,
            "overflow_y": null,
            "overflow_x": null,
            "grid_auto_flow": null,
            "grid_area": null,
            "grid_template_columns": null,
            "flex": null,
            "_model_name": "LayoutModel",
            "justify_items": null,
            "grid_row": null,
            "max_height": null,
            "align_content": null,
            "visibility": null,
            "align_self": null,
            "height": null,
            "min_height": null,
            "padding": null,
            "grid_auto_rows": null,
            "grid_gap": null,
            "max_width": null,
            "order": null,
            "_view_module_version": "1.2.0",
            "grid_template_areas": null,
            "object_position": null,
            "object_fit": null,
            "grid_auto_columns": null,
            "margin": null,
            "display": null,
            "left": null
          }
        },
        "79cdf42e88d149cab7ac774f18de4657": {
          "model_module": "@jupyter-widgets/controls",
          "model_name": "IntProgressModel",
          "state": {
            "_view_name": "ProgressView",
            "style": "IPY_MODEL_fccaa65b43134332a962183a1dbf568d",
            "_dom_classes": [],
            "description": "Dl Completed...",
            "_model_name": "IntProgressModel",
            "bar_style": "success",
            "max": 1,
            "_view_module": "@jupyter-widgets/controls",
            "_model_module_version": "1.5.0",
            "value": 1,
            "_view_count": null,
            "_view_module_version": "1.5.0",
            "orientation": "horizontal",
            "min": 0,
            "description_tooltip": null,
            "_model_module": "@jupyter-widgets/controls",
            "layout": "IPY_MODEL_23700238f579459093900b24ac8abac5"
          }
        },
        "81f26e5e7dbc43118e313d7715c7a270": {
          "model_module": "@jupyter-widgets/controls",
          "model_name": "HTMLModel",
          "state": {
            "_view_name": "HTMLView",
            "style": "IPY_MODEL_ea60ffa5c031491aaa16fbd5adeac34a",
            "_dom_classes": [],
            "description": "",
            "_model_name": "HTMLModel",
            "placeholder": "​",
            "_view_module": "@jupyter-widgets/controls",
            "_model_module_version": "1.5.0",
            "value": "1/|/100% 1/1 [00:08&lt;00:00,  8.25s/ url]",
            "_view_count": null,
            "_view_module_version": "1.5.0",
            "description_tooltip": null,
            "_model_module": "@jupyter-widgets/controls",
            "layout": "IPY_MODEL_367446b0890a4e8e8ee71f15aaae31d8"
          }
        },
        "fccaa65b43134332a962183a1dbf568d": {
          "model_module": "@jupyter-widgets/controls",
          "model_name": "ProgressStyleModel",
          "state": {
            "_view_name": "StyleView",
            "_model_name": "ProgressStyleModel",
            "description_width": "initial",
            "_view_module": "@jupyter-widgets/base",
            "_model_module_version": "1.5.0",
            "_view_count": null,
            "_view_module_version": "1.2.0",
            "bar_color": null,
            "_model_module": "@jupyter-widgets/controls"
          }
        },
        "23700238f579459093900b24ac8abac5": {
          "model_module": "@jupyter-widgets/base",
          "model_name": "LayoutModel",
          "state": {
            "_view_name": "LayoutView",
            "grid_template_rows": null,
            "right": null,
            "justify_content": null,
            "_view_module": "@jupyter-widgets/base",
            "overflow": null,
            "_model_module_version": "1.2.0",
            "_view_count": null,
            "flex_flow": null,
            "width": null,
            "min_width": null,
            "border": null,
            "align_items": null,
            "bottom": null,
            "_model_module": "@jupyter-widgets/base",
            "top": null,
            "grid_column": null,
            "overflow_y": null,
            "overflow_x": null,
            "grid_auto_flow": null,
            "grid_area": null,
            "grid_template_columns": null,
            "flex": null,
            "_model_name": "LayoutModel",
            "justify_items": null,
            "grid_row": null,
            "max_height": null,
            "align_content": null,
            "visibility": null,
            "align_self": null,
            "height": null,
            "min_height": null,
            "padding": null,
            "grid_auto_rows": null,
            "grid_gap": null,
            "max_width": null,
            "order": null,
            "_view_module_version": "1.2.0",
            "grid_template_areas": null,
            "object_position": null,
            "object_fit": null,
            "grid_auto_columns": null,
            "margin": null,
            "display": null,
            "left": null
          }
        },
        "ea60ffa5c031491aaa16fbd5adeac34a": {
          "model_module": "@jupyter-widgets/controls",
          "model_name": "DescriptionStyleModel",
          "state": {
            "_view_name": "StyleView",
            "_model_name": "DescriptionStyleModel",
            "description_width": "",
            "_view_module": "@jupyter-widgets/base",
            "_model_module_version": "1.5.0",
            "_view_count": null,
            "_view_module_version": "1.2.0",
            "_model_module": "@jupyter-widgets/controls"
          }
        },
        "367446b0890a4e8e8ee71f15aaae31d8": {
          "model_module": "@jupyter-widgets/base",
          "model_name": "LayoutModel",
          "state": {
            "_view_name": "LayoutView",
            "grid_template_rows": null,
            "right": null,
            "justify_content": null,
            "_view_module": "@jupyter-widgets/base",
            "overflow": null,
            "_model_module_version": "1.2.0",
            "_view_count": null,
            "flex_flow": null,
            "width": null,
            "min_width": null,
            "border": null,
            "align_items": null,
            "bottom": null,
            "_model_module": "@jupyter-widgets/base",
            "top": null,
            "grid_column": null,
            "overflow_y": null,
            "overflow_x": null,
            "grid_auto_flow": null,
            "grid_area": null,
            "grid_template_columns": null,
            "flex": null,
            "_model_name": "LayoutModel",
            "justify_items": null,
            "grid_row": null,
            "max_height": null,
            "align_content": null,
            "visibility": null,
            "align_self": null,
            "height": null,
            "min_height": null,
            "padding": null,
            "grid_auto_rows": null,
            "grid_gap": null,
            "max_width": null,
            "order": null,
            "_view_module_version": "1.2.0",
            "grid_template_areas": null,
            "object_position": null,
            "object_fit": null,
            "grid_auto_columns": null,
            "margin": null,
            "display": null,
            "left": null
          }
        },
        "9d0b385f8c1040e5972935603c2c987e": {
          "model_module": "@jupyter-widgets/controls",
          "model_name": "HBoxModel",
          "state": {
            "_view_name": "HBoxView",
            "_dom_classes": [],
            "_model_name": "HBoxModel",
            "_view_module": "@jupyter-widgets/controls",
            "_model_module_version": "1.5.0",
            "_view_count": null,
            "_view_module_version": "1.5.0",
            "box_style": "",
            "layout": "IPY_MODEL_84a870a5c6794f559ea4bf1cca8d4ca0",
            "_model_module": "@jupyter-widgets/controls",
            "children": [
              "IPY_MODEL_7d98a8682a2d482f9d3c8f4e669527cf",
              "IPY_MODEL_ac5260b382914cd09b9cc36bfd182fba"
            ]
          }
        },
        "84a870a5c6794f559ea4bf1cca8d4ca0": {
          "model_module": "@jupyter-widgets/base",
          "model_name": "LayoutModel",
          "state": {
            "_view_name": "LayoutView",
            "grid_template_rows": null,
            "right": null,
            "justify_content": null,
            "_view_module": "@jupyter-widgets/base",
            "overflow": null,
            "_model_module_version": "1.2.0",
            "_view_count": null,
            "flex_flow": null,
            "width": null,
            "min_width": null,
            "border": null,
            "align_items": null,
            "bottom": null,
            "_model_module": "@jupyter-widgets/base",
            "top": null,
            "grid_column": null,
            "overflow_y": null,
            "overflow_x": null,
            "grid_auto_flow": null,
            "grid_area": null,
            "grid_template_columns": null,
            "flex": null,
            "_model_name": "LayoutModel",
            "justify_items": null,
            "grid_row": null,
            "max_height": null,
            "align_content": null,
            "visibility": null,
            "align_self": null,
            "height": null,
            "min_height": null,
            "padding": null,
            "grid_auto_rows": null,
            "grid_gap": null,
            "max_width": null,
            "order": null,
            "_view_module_version": "1.2.0",
            "grid_template_areas": null,
            "object_position": null,
            "object_fit": null,
            "grid_auto_columns": null,
            "margin": null,
            "display": null,
            "left": null
          }
        },
        "7d98a8682a2d482f9d3c8f4e669527cf": {
          "model_module": "@jupyter-widgets/controls",
          "model_name": "IntProgressModel",
          "state": {
            "_view_name": "ProgressView",
            "style": "IPY_MODEL_f324451b5e6d42f2bbb116a4db9359d2",
            "_dom_classes": [],
            "description": "Dl Size...",
            "_model_name": "IntProgressModel",
            "bar_style": "success",
            "max": 1,
            "_view_module": "@jupyter-widgets/controls",
            "_model_module_version": "1.5.0",
            "value": 1,
            "_view_count": null,
            "_view_module_version": "1.5.0",
            "orientation": "horizontal",
            "min": 0,
            "description_tooltip": null,
            "_model_module": "@jupyter-widgets/controls",
            "layout": "IPY_MODEL_df8e8fb0990f4c7aadf39e582f2855da"
          }
        },
        "ac5260b382914cd09b9cc36bfd182fba": {
          "model_module": "@jupyter-widgets/controls",
          "model_name": "HTMLModel",
          "state": {
            "_view_name": "HTMLView",
            "style": "IPY_MODEL_d4524cf63f6b49f49c8cb8a3e3fbce32",
            "_dom_classes": [],
            "description": "",
            "_model_name": "HTMLModel",
            "placeholder": "​",
            "_view_module": "@jupyter-widgets/controls",
            "_model_module_version": "1.5.0",
            "value": "80/|/100% 80/80 [00:08&lt;00:00,  9.75 MiB/s]",
            "_view_count": null,
            "_view_module_version": "1.5.0",
            "description_tooltip": null,
            "_model_module": "@jupyter-widgets/controls",
            "layout": "IPY_MODEL_8f638f0e0e574f75ab99b445999d434d"
          }
        },
        "f324451b5e6d42f2bbb116a4db9359d2": {
          "model_module": "@jupyter-widgets/controls",
          "model_name": "ProgressStyleModel",
          "state": {
            "_view_name": "StyleView",
            "_model_name": "ProgressStyleModel",
            "description_width": "initial",
            "_view_module": "@jupyter-widgets/base",
            "_model_module_version": "1.5.0",
            "_view_count": null,
            "_view_module_version": "1.2.0",
            "bar_color": null,
            "_model_module": "@jupyter-widgets/controls"
          }
        },
        "df8e8fb0990f4c7aadf39e582f2855da": {
          "model_module": "@jupyter-widgets/base",
          "model_name": "LayoutModel",
          "state": {
            "_view_name": "LayoutView",
            "grid_template_rows": null,
            "right": null,
            "justify_content": null,
            "_view_module": "@jupyter-widgets/base",
            "overflow": null,
            "_model_module_version": "1.2.0",
            "_view_count": null,
            "flex_flow": null,
            "width": null,
            "min_width": null,
            "border": null,
            "align_items": null,
            "bottom": null,
            "_model_module": "@jupyter-widgets/base",
            "top": null,
            "grid_column": null,
            "overflow_y": null,
            "overflow_x": null,
            "grid_auto_flow": null,
            "grid_area": null,
            "grid_template_columns": null,
            "flex": null,
            "_model_name": "LayoutModel",
            "justify_items": null,
            "grid_row": null,
            "max_height": null,
            "align_content": null,
            "visibility": null,
            "align_self": null,
            "height": null,
            "min_height": null,
            "padding": null,
            "grid_auto_rows": null,
            "grid_gap": null,
            "max_width": null,
            "order": null,
            "_view_module_version": "1.2.0",
            "grid_template_areas": null,
            "object_position": null,
            "object_fit": null,
            "grid_auto_columns": null,
            "margin": null,
            "display": null,
            "left": null
          }
        },
        "d4524cf63f6b49f49c8cb8a3e3fbce32": {
          "model_module": "@jupyter-widgets/controls",
          "model_name": "DescriptionStyleModel",
          "state": {
            "_view_name": "StyleView",
            "_model_name": "DescriptionStyleModel",
            "description_width": "",
            "_view_module": "@jupyter-widgets/base",
            "_model_module_version": "1.5.0",
            "_view_count": null,
            "_view_module_version": "1.2.0",
            "_model_module": "@jupyter-widgets/controls"
          }
        },
        "8f638f0e0e574f75ab99b445999d434d": {
          "model_module": "@jupyter-widgets/base",
          "model_name": "LayoutModel",
          "state": {
            "_view_name": "LayoutView",
            "grid_template_rows": null,
            "right": null,
            "justify_content": null,
            "_view_module": "@jupyter-widgets/base",
            "overflow": null,
            "_model_module_version": "1.2.0",
            "_view_count": null,
            "flex_flow": null,
            "width": null,
            "min_width": null,
            "border": null,
            "align_items": null,
            "bottom": null,
            "_model_module": "@jupyter-widgets/base",
            "top": null,
            "grid_column": null,
            "overflow_y": null,
            "overflow_x": null,
            "grid_auto_flow": null,
            "grid_area": null,
            "grid_template_columns": null,
            "flex": null,
            "_model_name": "LayoutModel",
            "justify_items": null,
            "grid_row": null,
            "max_height": null,
            "align_content": null,
            "visibility": null,
            "align_self": null,
            "height": null,
            "min_height": null,
            "padding": null,
            "grid_auto_rows": null,
            "grid_gap": null,
            "max_width": null,
            "order": null,
            "_view_module_version": "1.2.0",
            "grid_template_areas": null,
            "object_position": null,
            "object_fit": null,
            "grid_auto_columns": null,
            "margin": null,
            "display": null,
            "left": null
          }
        },
        "c38df19ada904cbf8164845d7b62f8bf": {
          "model_module": "@jupyter-widgets/controls",
          "model_name": "HBoxModel",
          "state": {
            "_view_name": "HBoxView",
            "_dom_classes": [],
            "_model_name": "HBoxModel",
            "_view_module": "@jupyter-widgets/controls",
            "_model_module_version": "1.5.0",
            "_view_count": null,
            "_view_module_version": "1.5.0",
            "box_style": "",
            "layout": "IPY_MODEL_ecf742750d5648f087d9cb55de69e2ff",
            "_model_module": "@jupyter-widgets/controls",
            "children": [
              "IPY_MODEL_baba2aa7614f42ffa6abcced8a73f558",
              "IPY_MODEL_ac5b1cbec10d40f29519ebf1a26b7781"
            ]
          }
        },
        "ecf742750d5648f087d9cb55de69e2ff": {
          "model_module": "@jupyter-widgets/base",
          "model_name": "LayoutModel",
          "state": {
            "_view_name": "LayoutView",
            "grid_template_rows": null,
            "right": null,
            "justify_content": null,
            "_view_module": "@jupyter-widgets/base",
            "overflow": null,
            "_model_module_version": "1.2.0",
            "_view_count": null,
            "flex_flow": null,
            "width": null,
            "min_width": null,
            "border": null,
            "align_items": null,
            "bottom": null,
            "_model_module": "@jupyter-widgets/base",
            "top": null,
            "grid_column": null,
            "overflow_y": null,
            "overflow_x": null,
            "grid_auto_flow": null,
            "grid_area": null,
            "grid_template_columns": null,
            "flex": null,
            "_model_name": "LayoutModel",
            "justify_items": null,
            "grid_row": null,
            "max_height": null,
            "align_content": null,
            "visibility": null,
            "align_self": null,
            "height": null,
            "min_height": null,
            "padding": null,
            "grid_auto_rows": null,
            "grid_gap": null,
            "max_width": null,
            "order": null,
            "_view_module_version": "1.2.0",
            "grid_template_areas": null,
            "object_position": null,
            "object_fit": null,
            "grid_auto_columns": null,
            "margin": null,
            "display": null,
            "left": null
          }
        },
        "baba2aa7614f42ffa6abcced8a73f558": {
          "model_module": "@jupyter-widgets/controls",
          "model_name": "IntProgressModel",
          "state": {
            "_view_name": "ProgressView",
            "style": "IPY_MODEL_8ca616b6ba2b4752a31969d0b6f44a78",
            "_dom_classes": [],
            "description": "",
            "_model_name": "IntProgressModel",
            "bar_style": "info",
            "max": 1,
            "_view_module": "@jupyter-widgets/controls",
            "_model_module_version": "1.5.0",
            "value": 1,
            "_view_count": null,
            "_view_module_version": "1.5.0",
            "orientation": "horizontal",
            "min": 0,
            "description_tooltip": null,
            "_model_module": "@jupyter-widgets/controls",
            "layout": "IPY_MODEL_bea4cbf8ff344c879f4952a1fb8aeeb9"
          }
        },
        "ac5b1cbec10d40f29519ebf1a26b7781": {
          "model_module": "@jupyter-widgets/controls",
          "model_name": "HTMLModel",
          "state": {
            "_view_name": "HTMLView",
            "style": "IPY_MODEL_b228e34677c746f9bbf95f3aa88fb851",
            "_dom_classes": [],
            "description": "",
            "_model_name": "HTMLModel",
            "placeholder": "​",
            "_view_module": "@jupyter-widgets/controls",
            "_model_module_version": "1.5.0",
            "value": "24808 examples [00:13, 2331.39 examples/s]",
            "_view_count": null,
            "_view_module_version": "1.5.0",
            "description_tooltip": null,
            "_model_module": "@jupyter-widgets/controls",
            "layout": "IPY_MODEL_08f89058c49e43d586aecd0bc9663f95"
          }
        },
        "8ca616b6ba2b4752a31969d0b6f44a78": {
          "model_module": "@jupyter-widgets/controls",
          "model_name": "ProgressStyleModel",
          "state": {
            "_view_name": "StyleView",
            "_model_name": "ProgressStyleModel",
            "description_width": "",
            "_view_module": "@jupyter-widgets/base",
            "_model_module_version": "1.5.0",
            "_view_count": null,
            "_view_module_version": "1.2.0",
            "bar_color": null,
            "_model_module": "@jupyter-widgets/controls"
          }
        },
        "bea4cbf8ff344c879f4952a1fb8aeeb9": {
          "model_module": "@jupyter-widgets/base",
          "model_name": "LayoutModel",
          "state": {
            "_view_name": "LayoutView",
            "grid_template_rows": null,
            "right": null,
            "justify_content": null,
            "_view_module": "@jupyter-widgets/base",
            "overflow": null,
            "_model_module_version": "1.2.0",
            "_view_count": null,
            "flex_flow": null,
            "width": null,
            "min_width": null,
            "border": null,
            "align_items": null,
            "bottom": null,
            "_model_module": "@jupyter-widgets/base",
            "top": null,
            "grid_column": null,
            "overflow_y": null,
            "overflow_x": null,
            "grid_auto_flow": null,
            "grid_area": null,
            "grid_template_columns": null,
            "flex": null,
            "_model_name": "LayoutModel",
            "justify_items": null,
            "grid_row": null,
            "max_height": null,
            "align_content": null,
            "visibility": null,
            "align_self": null,
            "height": null,
            "min_height": null,
            "padding": null,
            "grid_auto_rows": null,
            "grid_gap": null,
            "max_width": null,
            "order": null,
            "_view_module_version": "1.2.0",
            "grid_template_areas": null,
            "object_position": null,
            "object_fit": null,
            "grid_auto_columns": null,
            "margin": null,
            "display": null,
            "left": null
          }
        },
        "b228e34677c746f9bbf95f3aa88fb851": {
          "model_module": "@jupyter-widgets/controls",
          "model_name": "DescriptionStyleModel",
          "state": {
            "_view_name": "StyleView",
            "_model_name": "DescriptionStyleModel",
            "description_width": "",
            "_view_module": "@jupyter-widgets/base",
            "_model_module_version": "1.5.0",
            "_view_count": null,
            "_view_module_version": "1.2.0",
            "_model_module": "@jupyter-widgets/controls"
          }
        },
        "08f89058c49e43d586aecd0bc9663f95": {
          "model_module": "@jupyter-widgets/base",
          "model_name": "LayoutModel",
          "state": {
            "_view_name": "LayoutView",
            "grid_template_rows": null,
            "right": null,
            "justify_content": null,
            "_view_module": "@jupyter-widgets/base",
            "overflow": null,
            "_model_module_version": "1.2.0",
            "_view_count": null,
            "flex_flow": null,
            "width": null,
            "min_width": null,
            "border": null,
            "align_items": null,
            "bottom": null,
            "_model_module": "@jupyter-widgets/base",
            "top": null,
            "grid_column": null,
            "overflow_y": null,
            "overflow_x": null,
            "grid_auto_flow": null,
            "grid_area": null,
            "grid_template_columns": null,
            "flex": null,
            "_model_name": "LayoutModel",
            "justify_items": null,
            "grid_row": null,
            "max_height": null,
            "align_content": null,
            "visibility": null,
            "align_self": null,
            "height": null,
            "min_height": null,
            "padding": null,
            "grid_auto_rows": null,
            "grid_gap": null,
            "max_width": null,
            "order": null,
            "_view_module_version": "1.2.0",
            "grid_template_areas": null,
            "object_position": null,
            "object_fit": null,
            "grid_auto_columns": null,
            "margin": null,
            "display": null,
            "left": null
          }
        },
        "14f0574bab07421cb4ac5a42d434bdb3": {
          "model_module": "@jupyter-widgets/controls",
          "model_name": "HBoxModel",
          "state": {
            "_view_name": "HBoxView",
            "_dom_classes": [],
            "_model_name": "HBoxModel",
            "_view_module": "@jupyter-widgets/controls",
            "_model_module_version": "1.5.0",
            "_view_count": null,
            "_view_module_version": "1.5.0",
            "box_style": "",
            "layout": "IPY_MODEL_4bf39aae972b4778a1150ab3eead9075",
            "_model_module": "@jupyter-widgets/controls",
            "children": [
              "IPY_MODEL_2af678ff2d59439abe731acc400ae93b",
              "IPY_MODEL_d04c64b990a04de1879c205519d9d2f9"
            ]
          }
        },
        "4bf39aae972b4778a1150ab3eead9075": {
          "model_module": "@jupyter-widgets/base",
          "model_name": "LayoutModel",
          "state": {
            "_view_name": "LayoutView",
            "grid_template_rows": null,
            "right": null,
            "justify_content": null,
            "_view_module": "@jupyter-widgets/base",
            "overflow": null,
            "_model_module_version": "1.2.0",
            "_view_count": null,
            "flex_flow": null,
            "width": null,
            "min_width": null,
            "border": null,
            "align_items": null,
            "bottom": null,
            "_model_module": "@jupyter-widgets/base",
            "top": null,
            "grid_column": null,
            "overflow_y": null,
            "overflow_x": null,
            "grid_auto_flow": null,
            "grid_area": null,
            "grid_template_columns": null,
            "flex": null,
            "_model_name": "LayoutModel",
            "justify_items": null,
            "grid_row": null,
            "max_height": null,
            "align_content": null,
            "visibility": null,
            "align_self": null,
            "height": null,
            "min_height": null,
            "padding": null,
            "grid_auto_rows": null,
            "grid_gap": null,
            "max_width": null,
            "order": null,
            "_view_module_version": "1.2.0",
            "grid_template_areas": null,
            "object_position": null,
            "object_fit": null,
            "grid_auto_columns": null,
            "margin": null,
            "display": null,
            "left": null
          }
        },
        "2af678ff2d59439abe731acc400ae93b": {
          "model_module": "@jupyter-widgets/controls",
          "model_name": "IntProgressModel",
          "state": {
            "_view_name": "ProgressView",
            "style": "IPY_MODEL_2e869e59880148e09461664970ef840a",
            "_dom_classes": [],
            "description": "",
            "_model_name": "IntProgressModel",
            "bar_style": "danger",
            "max": 25000,
            "_view_module": "@jupyter-widgets/controls",
            "_model_module_version": "1.5.0",
            "value": 18774,
            "_view_count": null,
            "_view_module_version": "1.5.0",
            "orientation": "horizontal",
            "min": 0,
            "description_tooltip": null,
            "_model_module": "@jupyter-widgets/controls",
            "layout": "IPY_MODEL_012670a8fe6c43dabe61a91dea389731"
          }
        },
        "d04c64b990a04de1879c205519d9d2f9": {
          "model_module": "@jupyter-widgets/controls",
          "model_name": "HTMLModel",
          "state": {
            "_view_name": "HTMLView",
            "style": "IPY_MODEL_7afd4e07d63842d9a261014771307acc",
            "_dom_classes": [],
            "description": "",
            "_model_name": "HTMLModel",
            "placeholder": "​",
            "_view_module": "@jupyter-widgets/controls",
            "_model_module_version": "1.5.0",
            "value": " 75% 18774/25000 [00:00&lt;00:00, 63250.06 examples/s]",
            "_view_count": null,
            "_view_module_version": "1.5.0",
            "description_tooltip": null,
            "_model_module": "@jupyter-widgets/controls",
            "layout": "IPY_MODEL_7759a9ad64db40c4847b50e984557145"
          }
        },
        "2e869e59880148e09461664970ef840a": {
          "model_module": "@jupyter-widgets/controls",
          "model_name": "ProgressStyleModel",
          "state": {
            "_view_name": "StyleView",
            "_model_name": "ProgressStyleModel",
            "description_width": "",
            "_view_module": "@jupyter-widgets/base",
            "_model_module_version": "1.5.0",
            "_view_count": null,
            "_view_module_version": "1.2.0",
            "bar_color": null,
            "_model_module": "@jupyter-widgets/controls"
          }
        },
        "012670a8fe6c43dabe61a91dea389731": {
          "model_module": "@jupyter-widgets/base",
          "model_name": "LayoutModel",
          "state": {
            "_view_name": "LayoutView",
            "grid_template_rows": null,
            "right": null,
            "justify_content": null,
            "_view_module": "@jupyter-widgets/base",
            "overflow": null,
            "_model_module_version": "1.2.0",
            "_view_count": null,
            "flex_flow": null,
            "width": null,
            "min_width": null,
            "border": null,
            "align_items": null,
            "bottom": null,
            "_model_module": "@jupyter-widgets/base",
            "top": null,
            "grid_column": null,
            "overflow_y": null,
            "overflow_x": null,
            "grid_auto_flow": null,
            "grid_area": null,
            "grid_template_columns": null,
            "flex": null,
            "_model_name": "LayoutModel",
            "justify_items": null,
            "grid_row": null,
            "max_height": null,
            "align_content": null,
            "visibility": null,
            "align_self": null,
            "height": null,
            "min_height": null,
            "padding": null,
            "grid_auto_rows": null,
            "grid_gap": null,
            "max_width": null,
            "order": null,
            "_view_module_version": "1.2.0",
            "grid_template_areas": null,
            "object_position": null,
            "object_fit": null,
            "grid_auto_columns": null,
            "margin": null,
            "display": null,
            "left": null
          }
        },
        "7afd4e07d63842d9a261014771307acc": {
          "model_module": "@jupyter-widgets/controls",
          "model_name": "DescriptionStyleModel",
          "state": {
            "_view_name": "StyleView",
            "_model_name": "DescriptionStyleModel",
            "description_width": "",
            "_view_module": "@jupyter-widgets/base",
            "_model_module_version": "1.5.0",
            "_view_count": null,
            "_view_module_version": "1.2.0",
            "_model_module": "@jupyter-widgets/controls"
          }
        },
        "7759a9ad64db40c4847b50e984557145": {
          "model_module": "@jupyter-widgets/base",
          "model_name": "LayoutModel",
          "state": {
            "_view_name": "LayoutView",
            "grid_template_rows": null,
            "right": null,
            "justify_content": null,
            "_view_module": "@jupyter-widgets/base",
            "overflow": null,
            "_model_module_version": "1.2.0",
            "_view_count": null,
            "flex_flow": null,
            "width": null,
            "min_width": null,
            "border": null,
            "align_items": null,
            "bottom": null,
            "_model_module": "@jupyter-widgets/base",
            "top": null,
            "grid_column": null,
            "overflow_y": null,
            "overflow_x": null,
            "grid_auto_flow": null,
            "grid_area": null,
            "grid_template_columns": null,
            "flex": null,
            "_model_name": "LayoutModel",
            "justify_items": null,
            "grid_row": null,
            "max_height": null,
            "align_content": null,
            "visibility": null,
            "align_self": null,
            "height": null,
            "min_height": null,
            "padding": null,
            "grid_auto_rows": null,
            "grid_gap": null,
            "max_width": null,
            "order": null,
            "_view_module_version": "1.2.0",
            "grid_template_areas": null,
            "object_position": null,
            "object_fit": null,
            "grid_auto_columns": null,
            "margin": null,
            "display": null,
            "left": null
          }
        },
        "17c1c54cf07c47d292232f17fa9e1349": {
          "model_module": "@jupyter-widgets/controls",
          "model_name": "HBoxModel",
          "state": {
            "_view_name": "HBoxView",
            "_dom_classes": [],
            "_model_name": "HBoxModel",
            "_view_module": "@jupyter-widgets/controls",
            "_model_module_version": "1.5.0",
            "_view_count": null,
            "_view_module_version": "1.5.0",
            "box_style": "",
            "layout": "IPY_MODEL_2fb49434a540476c9a211359094c7941",
            "_model_module": "@jupyter-widgets/controls",
            "children": [
              "IPY_MODEL_41c1826f001140eabb20186107fe2cce",
              "IPY_MODEL_2c6984c00b99499bbfbee27d1af1dc59"
            ]
          }
        },
        "2fb49434a540476c9a211359094c7941": {
          "model_module": "@jupyter-widgets/base",
          "model_name": "LayoutModel",
          "state": {
            "_view_name": "LayoutView",
            "grid_template_rows": null,
            "right": null,
            "justify_content": null,
            "_view_module": "@jupyter-widgets/base",
            "overflow": null,
            "_model_module_version": "1.2.0",
            "_view_count": null,
            "flex_flow": null,
            "width": null,
            "min_width": null,
            "border": null,
            "align_items": null,
            "bottom": null,
            "_model_module": "@jupyter-widgets/base",
            "top": null,
            "grid_column": null,
            "overflow_y": null,
            "overflow_x": null,
            "grid_auto_flow": null,
            "grid_area": null,
            "grid_template_columns": null,
            "flex": null,
            "_model_name": "LayoutModel",
            "justify_items": null,
            "grid_row": null,
            "max_height": null,
            "align_content": null,
            "visibility": null,
            "align_self": null,
            "height": null,
            "min_height": null,
            "padding": null,
            "grid_auto_rows": null,
            "grid_gap": null,
            "max_width": null,
            "order": null,
            "_view_module_version": "1.2.0",
            "grid_template_areas": null,
            "object_position": null,
            "object_fit": null,
            "grid_auto_columns": null,
            "margin": null,
            "display": null,
            "left": null
          }
        },
        "41c1826f001140eabb20186107fe2cce": {
          "model_module": "@jupyter-widgets/controls",
          "model_name": "IntProgressModel",
          "state": {
            "_view_name": "ProgressView",
            "style": "IPY_MODEL_ff28330de2234dc982b2e9102c693a72",
            "_dom_classes": [],
            "description": "",
            "_model_name": "IntProgressModel",
            "bar_style": "info",
            "max": 1,
            "_view_module": "@jupyter-widgets/controls",
            "_model_module_version": "1.5.0",
            "value": 1,
            "_view_count": null,
            "_view_module_version": "1.5.0",
            "orientation": "horizontal",
            "min": 0,
            "description_tooltip": null,
            "_model_module": "@jupyter-widgets/controls",
            "layout": "IPY_MODEL_b78c3107878b48b99c39c63f15f11b44"
          }
        },
        "2c6984c00b99499bbfbee27d1af1dc59": {
          "model_module": "@jupyter-widgets/controls",
          "model_name": "HTMLModel",
          "state": {
            "_view_name": "HTMLView",
            "style": "IPY_MODEL_6e8deebbf1f2470da89ca214411e1551",
            "_dom_classes": [],
            "description": "",
            "_model_name": "HTMLModel",
            "placeholder": "​",
            "_view_module": "@jupyter-widgets/controls",
            "_model_module_version": "1.5.0",
            "value": "24912 examples [00:11, 2492.28 examples/s]",
            "_view_count": null,
            "_view_module_version": "1.5.0",
            "description_tooltip": null,
            "_model_module": "@jupyter-widgets/controls",
            "layout": "IPY_MODEL_e0c8729185e34f878f64e4a9abdfcaf9"
          }
        },
        "ff28330de2234dc982b2e9102c693a72": {
          "model_module": "@jupyter-widgets/controls",
          "model_name": "ProgressStyleModel",
          "state": {
            "_view_name": "StyleView",
            "_model_name": "ProgressStyleModel",
            "description_width": "",
            "_view_module": "@jupyter-widgets/base",
            "_model_module_version": "1.5.0",
            "_view_count": null,
            "_view_module_version": "1.2.0",
            "bar_color": null,
            "_model_module": "@jupyter-widgets/controls"
          }
        },
        "b78c3107878b48b99c39c63f15f11b44": {
          "model_module": "@jupyter-widgets/base",
          "model_name": "LayoutModel",
          "state": {
            "_view_name": "LayoutView",
            "grid_template_rows": null,
            "right": null,
            "justify_content": null,
            "_view_module": "@jupyter-widgets/base",
            "overflow": null,
            "_model_module_version": "1.2.0",
            "_view_count": null,
            "flex_flow": null,
            "width": null,
            "min_width": null,
            "border": null,
            "align_items": null,
            "bottom": null,
            "_model_module": "@jupyter-widgets/base",
            "top": null,
            "grid_column": null,
            "overflow_y": null,
            "overflow_x": null,
            "grid_auto_flow": null,
            "grid_area": null,
            "grid_template_columns": null,
            "flex": null,
            "_model_name": "LayoutModel",
            "justify_items": null,
            "grid_row": null,
            "max_height": null,
            "align_content": null,
            "visibility": null,
            "align_self": null,
            "height": null,
            "min_height": null,
            "padding": null,
            "grid_auto_rows": null,
            "grid_gap": null,
            "max_width": null,
            "order": null,
            "_view_module_version": "1.2.0",
            "grid_template_areas": null,
            "object_position": null,
            "object_fit": null,
            "grid_auto_columns": null,
            "margin": null,
            "display": null,
            "left": null
          }
        },
        "6e8deebbf1f2470da89ca214411e1551": {
          "model_module": "@jupyter-widgets/controls",
          "model_name": "DescriptionStyleModel",
          "state": {
            "_view_name": "StyleView",
            "_model_name": "DescriptionStyleModel",
            "description_width": "",
            "_view_module": "@jupyter-widgets/base",
            "_model_module_version": "1.5.0",
            "_view_count": null,
            "_view_module_version": "1.2.0",
            "_model_module": "@jupyter-widgets/controls"
          }
        },
        "e0c8729185e34f878f64e4a9abdfcaf9": {
          "model_module": "@jupyter-widgets/base",
          "model_name": "LayoutModel",
          "state": {
            "_view_name": "LayoutView",
            "grid_template_rows": null,
            "right": null,
            "justify_content": null,
            "_view_module": "@jupyter-widgets/base",
            "overflow": null,
            "_model_module_version": "1.2.0",
            "_view_count": null,
            "flex_flow": null,
            "width": null,
            "min_width": null,
            "border": null,
            "align_items": null,
            "bottom": null,
            "_model_module": "@jupyter-widgets/base",
            "top": null,
            "grid_column": null,
            "overflow_y": null,
            "overflow_x": null,
            "grid_auto_flow": null,
            "grid_area": null,
            "grid_template_columns": null,
            "flex": null,
            "_model_name": "LayoutModel",
            "justify_items": null,
            "grid_row": null,
            "max_height": null,
            "align_content": null,
            "visibility": null,
            "align_self": null,
            "height": null,
            "min_height": null,
            "padding": null,
            "grid_auto_rows": null,
            "grid_gap": null,
            "max_width": null,
            "order": null,
            "_view_module_version": "1.2.0",
            "grid_template_areas": null,
            "object_position": null,
            "object_fit": null,
            "grid_auto_columns": null,
            "margin": null,
            "display": null,
            "left": null
          }
        },
        "ed5644b019f14ae49db06a4f6350c662": {
          "model_module": "@jupyter-widgets/controls",
          "model_name": "HBoxModel",
          "state": {
            "_view_name": "HBoxView",
            "_dom_classes": [],
            "_model_name": "HBoxModel",
            "_view_module": "@jupyter-widgets/controls",
            "_model_module_version": "1.5.0",
            "_view_count": null,
            "_view_module_version": "1.5.0",
            "box_style": "",
            "layout": "IPY_MODEL_c11abb9f027f4da9b49a7a37bc1fd11d",
            "_model_module": "@jupyter-widgets/controls",
            "children": [
              "IPY_MODEL_8e0072d0a0c14b6ab566afccdc21b681",
              "IPY_MODEL_e2c4355bc6ff496d992073af205fdf87"
            ]
          }
        },
        "c11abb9f027f4da9b49a7a37bc1fd11d": {
          "model_module": "@jupyter-widgets/base",
          "model_name": "LayoutModel",
          "state": {
            "_view_name": "LayoutView",
            "grid_template_rows": null,
            "right": null,
            "justify_content": null,
            "_view_module": "@jupyter-widgets/base",
            "overflow": null,
            "_model_module_version": "1.2.0",
            "_view_count": null,
            "flex_flow": null,
            "width": null,
            "min_width": null,
            "border": null,
            "align_items": null,
            "bottom": null,
            "_model_module": "@jupyter-widgets/base",
            "top": null,
            "grid_column": null,
            "overflow_y": null,
            "overflow_x": null,
            "grid_auto_flow": null,
            "grid_area": null,
            "grid_template_columns": null,
            "flex": null,
            "_model_name": "LayoutModel",
            "justify_items": null,
            "grid_row": null,
            "max_height": null,
            "align_content": null,
            "visibility": null,
            "align_self": null,
            "height": null,
            "min_height": null,
            "padding": null,
            "grid_auto_rows": null,
            "grid_gap": null,
            "max_width": null,
            "order": null,
            "_view_module_version": "1.2.0",
            "grid_template_areas": null,
            "object_position": null,
            "object_fit": null,
            "grid_auto_columns": null,
            "margin": null,
            "display": null,
            "left": null
          }
        },
        "8e0072d0a0c14b6ab566afccdc21b681": {
          "model_module": "@jupyter-widgets/controls",
          "model_name": "IntProgressModel",
          "state": {
            "_view_name": "ProgressView",
            "style": "IPY_MODEL_428b0e7337fd4986886ce52ee1039da9",
            "_dom_classes": [],
            "description": "",
            "_model_name": "IntProgressModel",
            "bar_style": "danger",
            "max": 25000,
            "_view_module": "@jupyter-widgets/controls",
            "_model_module_version": "1.5.0",
            "value": 19013,
            "_view_count": null,
            "_view_module_version": "1.5.0",
            "orientation": "horizontal",
            "min": 0,
            "description_tooltip": null,
            "_model_module": "@jupyter-widgets/controls",
            "layout": "IPY_MODEL_2ccf5cbda1ff482eb3a12c184fd005b2"
          }
        },
        "e2c4355bc6ff496d992073af205fdf87": {
          "model_module": "@jupyter-widgets/controls",
          "model_name": "HTMLModel",
          "state": {
            "_view_name": "HTMLView",
            "style": "IPY_MODEL_ace8cc2d512342069934af6ce559a56d",
            "_dom_classes": [],
            "description": "",
            "_model_name": "HTMLModel",
            "placeholder": "​",
            "_view_module": "@jupyter-widgets/controls",
            "_model_module_version": "1.5.0",
            "value": " 76% 19013/25000 [00:00&lt;00:00, 69418.13 examples/s]",
            "_view_count": null,
            "_view_module_version": "1.5.0",
            "description_tooltip": null,
            "_model_module": "@jupyter-widgets/controls",
            "layout": "IPY_MODEL_e3845746e80844d5a66c8050ba414965"
          }
        },
        "428b0e7337fd4986886ce52ee1039da9": {
          "model_module": "@jupyter-widgets/controls",
          "model_name": "ProgressStyleModel",
          "state": {
            "_view_name": "StyleView",
            "_model_name": "ProgressStyleModel",
            "description_width": "",
            "_view_module": "@jupyter-widgets/base",
            "_model_module_version": "1.5.0",
            "_view_count": null,
            "_view_module_version": "1.2.0",
            "bar_color": null,
            "_model_module": "@jupyter-widgets/controls"
          }
        },
        "2ccf5cbda1ff482eb3a12c184fd005b2": {
          "model_module": "@jupyter-widgets/base",
          "model_name": "LayoutModel",
          "state": {
            "_view_name": "LayoutView",
            "grid_template_rows": null,
            "right": null,
            "justify_content": null,
            "_view_module": "@jupyter-widgets/base",
            "overflow": null,
            "_model_module_version": "1.2.0",
            "_view_count": null,
            "flex_flow": null,
            "width": null,
            "min_width": null,
            "border": null,
            "align_items": null,
            "bottom": null,
            "_model_module": "@jupyter-widgets/base",
            "top": null,
            "grid_column": null,
            "overflow_y": null,
            "overflow_x": null,
            "grid_auto_flow": null,
            "grid_area": null,
            "grid_template_columns": null,
            "flex": null,
            "_model_name": "LayoutModel",
            "justify_items": null,
            "grid_row": null,
            "max_height": null,
            "align_content": null,
            "visibility": null,
            "align_self": null,
            "height": null,
            "min_height": null,
            "padding": null,
            "grid_auto_rows": null,
            "grid_gap": null,
            "max_width": null,
            "order": null,
            "_view_module_version": "1.2.0",
            "grid_template_areas": null,
            "object_position": null,
            "object_fit": null,
            "grid_auto_columns": null,
            "margin": null,
            "display": null,
            "left": null
          }
        },
        "ace8cc2d512342069934af6ce559a56d": {
          "model_module": "@jupyter-widgets/controls",
          "model_name": "DescriptionStyleModel",
          "state": {
            "_view_name": "StyleView",
            "_model_name": "DescriptionStyleModel",
            "description_width": "",
            "_view_module": "@jupyter-widgets/base",
            "_model_module_version": "1.5.0",
            "_view_count": null,
            "_view_module_version": "1.2.0",
            "_model_module": "@jupyter-widgets/controls"
          }
        },
        "e3845746e80844d5a66c8050ba414965": {
          "model_module": "@jupyter-widgets/base",
          "model_name": "LayoutModel",
          "state": {
            "_view_name": "LayoutView",
            "grid_template_rows": null,
            "right": null,
            "justify_content": null,
            "_view_module": "@jupyter-widgets/base",
            "overflow": null,
            "_model_module_version": "1.2.0",
            "_view_count": null,
            "flex_flow": null,
            "width": null,
            "min_width": null,
            "border": null,
            "align_items": null,
            "bottom": null,
            "_model_module": "@jupyter-widgets/base",
            "top": null,
            "grid_column": null,
            "overflow_y": null,
            "overflow_x": null,
            "grid_auto_flow": null,
            "grid_area": null,
            "grid_template_columns": null,
            "flex": null,
            "_model_name": "LayoutModel",
            "justify_items": null,
            "grid_row": null,
            "max_height": null,
            "align_content": null,
            "visibility": null,
            "align_self": null,
            "height": null,
            "min_height": null,
            "padding": null,
            "grid_auto_rows": null,
            "grid_gap": null,
            "max_width": null,
            "order": null,
            "_view_module_version": "1.2.0",
            "grid_template_areas": null,
            "object_position": null,
            "object_fit": null,
            "grid_auto_columns": null,
            "margin": null,
            "display": null,
            "left": null
          }
        },
        "5d1be203d597463f97c27a6bbc497a49": {
          "model_module": "@jupyter-widgets/controls",
          "model_name": "HBoxModel",
          "state": {
            "_view_name": "HBoxView",
            "_dom_classes": [],
            "_model_name": "HBoxModel",
            "_view_module": "@jupyter-widgets/controls",
            "_model_module_version": "1.5.0",
            "_view_count": null,
            "_view_module_version": "1.5.0",
            "box_style": "",
            "layout": "IPY_MODEL_88fa2901bce74cb2aa2f48fee79b8633",
            "_model_module": "@jupyter-widgets/controls",
            "children": [
              "IPY_MODEL_2e6d06597f7e4436b45115d92d85497a",
              "IPY_MODEL_e32754cca3bf4edbbaf1f145b2d3d4b7"
            ]
          }
        },
        "88fa2901bce74cb2aa2f48fee79b8633": {
          "model_module": "@jupyter-widgets/base",
          "model_name": "LayoutModel",
          "state": {
            "_view_name": "LayoutView",
            "grid_template_rows": null,
            "right": null,
            "justify_content": null,
            "_view_module": "@jupyter-widgets/base",
            "overflow": null,
            "_model_module_version": "1.2.0",
            "_view_count": null,
            "flex_flow": null,
            "width": null,
            "min_width": null,
            "border": null,
            "align_items": null,
            "bottom": null,
            "_model_module": "@jupyter-widgets/base",
            "top": null,
            "grid_column": null,
            "overflow_y": null,
            "overflow_x": null,
            "grid_auto_flow": null,
            "grid_area": null,
            "grid_template_columns": null,
            "flex": null,
            "_model_name": "LayoutModel",
            "justify_items": null,
            "grid_row": null,
            "max_height": null,
            "align_content": null,
            "visibility": null,
            "align_self": null,
            "height": null,
            "min_height": null,
            "padding": null,
            "grid_auto_rows": null,
            "grid_gap": null,
            "max_width": null,
            "order": null,
            "_view_module_version": "1.2.0",
            "grid_template_areas": null,
            "object_position": null,
            "object_fit": null,
            "grid_auto_columns": null,
            "margin": null,
            "display": null,
            "left": null
          }
        },
        "2e6d06597f7e4436b45115d92d85497a": {
          "model_module": "@jupyter-widgets/controls",
          "model_name": "IntProgressModel",
          "state": {
            "_view_name": "ProgressView",
            "style": "IPY_MODEL_d9e2da61550c4f83a7cca0ac72afc612",
            "_dom_classes": [],
            "description": "",
            "_model_name": "IntProgressModel",
            "bar_style": "info",
            "max": 1,
            "_view_module": "@jupyter-widgets/controls",
            "_model_module_version": "1.5.0",
            "value": 1,
            "_view_count": null,
            "_view_module_version": "1.5.0",
            "orientation": "horizontal",
            "min": 0,
            "description_tooltip": null,
            "_model_module": "@jupyter-widgets/controls",
            "layout": "IPY_MODEL_ec165138ccc2465285cd68798bdef70d"
          }
        },
        "e32754cca3bf4edbbaf1f145b2d3d4b7": {
          "model_module": "@jupyter-widgets/controls",
          "model_name": "HTMLModel",
          "state": {
            "_view_name": "HTMLView",
            "style": "IPY_MODEL_ac977046b7864a75a637a3bd38e96902",
            "_dom_classes": [],
            "description": "",
            "_model_name": "HTMLModel",
            "placeholder": "​",
            "_view_module": "@jupyter-widgets/controls",
            "_model_module_version": "1.5.0",
            "value": "49838 examples [00:25, 2470.77 examples/s]",
            "_view_count": null,
            "_view_module_version": "1.5.0",
            "description_tooltip": null,
            "_model_module": "@jupyter-widgets/controls",
            "layout": "IPY_MODEL_8c44c13b4bbd4765bca1625ef90c4e59"
          }
        },
        "d9e2da61550c4f83a7cca0ac72afc612": {
          "model_module": "@jupyter-widgets/controls",
          "model_name": "ProgressStyleModel",
          "state": {
            "_view_name": "StyleView",
            "_model_name": "ProgressStyleModel",
            "description_width": "",
            "_view_module": "@jupyter-widgets/base",
            "_model_module_version": "1.5.0",
            "_view_count": null,
            "_view_module_version": "1.2.0",
            "bar_color": null,
            "_model_module": "@jupyter-widgets/controls"
          }
        },
        "ec165138ccc2465285cd68798bdef70d": {
          "model_module": "@jupyter-widgets/base",
          "model_name": "LayoutModel",
          "state": {
            "_view_name": "LayoutView",
            "grid_template_rows": null,
            "right": null,
            "justify_content": null,
            "_view_module": "@jupyter-widgets/base",
            "overflow": null,
            "_model_module_version": "1.2.0",
            "_view_count": null,
            "flex_flow": null,
            "width": null,
            "min_width": null,
            "border": null,
            "align_items": null,
            "bottom": null,
            "_model_module": "@jupyter-widgets/base",
            "top": null,
            "grid_column": null,
            "overflow_y": null,
            "overflow_x": null,
            "grid_auto_flow": null,
            "grid_area": null,
            "grid_template_columns": null,
            "flex": null,
            "_model_name": "LayoutModel",
            "justify_items": null,
            "grid_row": null,
            "max_height": null,
            "align_content": null,
            "visibility": null,
            "align_self": null,
            "height": null,
            "min_height": null,
            "padding": null,
            "grid_auto_rows": null,
            "grid_gap": null,
            "max_width": null,
            "order": null,
            "_view_module_version": "1.2.0",
            "grid_template_areas": null,
            "object_position": null,
            "object_fit": null,
            "grid_auto_columns": null,
            "margin": null,
            "display": null,
            "left": null
          }
        },
        "ac977046b7864a75a637a3bd38e96902": {
          "model_module": "@jupyter-widgets/controls",
          "model_name": "DescriptionStyleModel",
          "state": {
            "_view_name": "StyleView",
            "_model_name": "DescriptionStyleModel",
            "description_width": "",
            "_view_module": "@jupyter-widgets/base",
            "_model_module_version": "1.5.0",
            "_view_count": null,
            "_view_module_version": "1.2.0",
            "_model_module": "@jupyter-widgets/controls"
          }
        },
        "8c44c13b4bbd4765bca1625ef90c4e59": {
          "model_module": "@jupyter-widgets/base",
          "model_name": "LayoutModel",
          "state": {
            "_view_name": "LayoutView",
            "grid_template_rows": null,
            "right": null,
            "justify_content": null,
            "_view_module": "@jupyter-widgets/base",
            "overflow": null,
            "_model_module_version": "1.2.0",
            "_view_count": null,
            "flex_flow": null,
            "width": null,
            "min_width": null,
            "border": null,
            "align_items": null,
            "bottom": null,
            "_model_module": "@jupyter-widgets/base",
            "top": null,
            "grid_column": null,
            "overflow_y": null,
            "overflow_x": null,
            "grid_auto_flow": null,
            "grid_area": null,
            "grid_template_columns": null,
            "flex": null,
            "_model_name": "LayoutModel",
            "justify_items": null,
            "grid_row": null,
            "max_height": null,
            "align_content": null,
            "visibility": null,
            "align_self": null,
            "height": null,
            "min_height": null,
            "padding": null,
            "grid_auto_rows": null,
            "grid_gap": null,
            "max_width": null,
            "order": null,
            "_view_module_version": "1.2.0",
            "grid_template_areas": null,
            "object_position": null,
            "object_fit": null,
            "grid_auto_columns": null,
            "margin": null,
            "display": null,
            "left": null
          }
        },
        "49c3ff7216f84aaa9f417eeaab90fa73": {
          "model_module": "@jupyter-widgets/controls",
          "model_name": "HBoxModel",
          "state": {
            "_view_name": "HBoxView",
            "_dom_classes": [],
            "_model_name": "HBoxModel",
            "_view_module": "@jupyter-widgets/controls",
            "_model_module_version": "1.5.0",
            "_view_count": null,
            "_view_module_version": "1.5.0",
            "box_style": "",
            "layout": "IPY_MODEL_5630f5da611746d1b52e8ce94225b4fb",
            "_model_module": "@jupyter-widgets/controls",
            "children": [
              "IPY_MODEL_f81149fed21b45a9859757dac70d0d56",
              "IPY_MODEL_d7658ff039114e2a864a4411c9d22b6f"
            ]
          }
        },
        "5630f5da611746d1b52e8ce94225b4fb": {
          "model_module": "@jupyter-widgets/base",
          "model_name": "LayoutModel",
          "state": {
            "_view_name": "LayoutView",
            "grid_template_rows": null,
            "right": null,
            "justify_content": null,
            "_view_module": "@jupyter-widgets/base",
            "overflow": null,
            "_model_module_version": "1.2.0",
            "_view_count": null,
            "flex_flow": null,
            "width": null,
            "min_width": null,
            "border": null,
            "align_items": null,
            "bottom": null,
            "_model_module": "@jupyter-widgets/base",
            "top": null,
            "grid_column": null,
            "overflow_y": null,
            "overflow_x": null,
            "grid_auto_flow": null,
            "grid_area": null,
            "grid_template_columns": null,
            "flex": null,
            "_model_name": "LayoutModel",
            "justify_items": null,
            "grid_row": null,
            "max_height": null,
            "align_content": null,
            "visibility": null,
            "align_self": null,
            "height": null,
            "min_height": null,
            "padding": null,
            "grid_auto_rows": null,
            "grid_gap": null,
            "max_width": null,
            "order": null,
            "_view_module_version": "1.2.0",
            "grid_template_areas": null,
            "object_position": null,
            "object_fit": null,
            "grid_auto_columns": null,
            "margin": null,
            "display": null,
            "left": null
          }
        },
        "f81149fed21b45a9859757dac70d0d56": {
          "model_module": "@jupyter-widgets/controls",
          "model_name": "IntProgressModel",
          "state": {
            "_view_name": "ProgressView",
            "style": "IPY_MODEL_583ccec6badc4386a620c2548a9cf764",
            "_dom_classes": [],
            "description": "",
            "_model_name": "IntProgressModel",
            "bar_style": "danger",
            "max": 50000,
            "_view_module": "@jupyter-widgets/controls",
            "_model_module_version": "1.5.0",
            "value": 43870,
            "_view_count": null,
            "_view_module_version": "1.5.0",
            "orientation": "horizontal",
            "min": 0,
            "description_tooltip": null,
            "_model_module": "@jupyter-widgets/controls",
            "layout": "IPY_MODEL_6369f752cb7e42359f11f2e169cc6fa5"
          }
        },
        "d7658ff039114e2a864a4411c9d22b6f": {
          "model_module": "@jupyter-widgets/controls",
          "model_name": "HTMLModel",
          "state": {
            "_view_name": "HTMLView",
            "style": "IPY_MODEL_894034b888884208ab6826ccb74a2de8",
            "_dom_classes": [],
            "description": "",
            "_model_name": "HTMLModel",
            "placeholder": "​",
            "_view_module": "@jupyter-widgets/controls",
            "_model_module_version": "1.5.0",
            "value": " 88% 43870/50000 [00:00&lt;00:00, 16849.15 examples/s]",
            "_view_count": null,
            "_view_module_version": "1.5.0",
            "description_tooltip": null,
            "_model_module": "@jupyter-widgets/controls",
            "layout": "IPY_MODEL_e58879dd8bc84d1a82782958a59623b7"
          }
        },
        "583ccec6badc4386a620c2548a9cf764": {
          "model_module": "@jupyter-widgets/controls",
          "model_name": "ProgressStyleModel",
          "state": {
            "_view_name": "StyleView",
            "_model_name": "ProgressStyleModel",
            "description_width": "",
            "_view_module": "@jupyter-widgets/base",
            "_model_module_version": "1.5.0",
            "_view_count": null,
            "_view_module_version": "1.2.0",
            "bar_color": null,
            "_model_module": "@jupyter-widgets/controls"
          }
        },
        "6369f752cb7e42359f11f2e169cc6fa5": {
          "model_module": "@jupyter-widgets/base",
          "model_name": "LayoutModel",
          "state": {
            "_view_name": "LayoutView",
            "grid_template_rows": null,
            "right": null,
            "justify_content": null,
            "_view_module": "@jupyter-widgets/base",
            "overflow": null,
            "_model_module_version": "1.2.0",
            "_view_count": null,
            "flex_flow": null,
            "width": null,
            "min_width": null,
            "border": null,
            "align_items": null,
            "bottom": null,
            "_model_module": "@jupyter-widgets/base",
            "top": null,
            "grid_column": null,
            "overflow_y": null,
            "overflow_x": null,
            "grid_auto_flow": null,
            "grid_area": null,
            "grid_template_columns": null,
            "flex": null,
            "_model_name": "LayoutModel",
            "justify_items": null,
            "grid_row": null,
            "max_height": null,
            "align_content": null,
            "visibility": null,
            "align_self": null,
            "height": null,
            "min_height": null,
            "padding": null,
            "grid_auto_rows": null,
            "grid_gap": null,
            "max_width": null,
            "order": null,
            "_view_module_version": "1.2.0",
            "grid_template_areas": null,
            "object_position": null,
            "object_fit": null,
            "grid_auto_columns": null,
            "margin": null,
            "display": null,
            "left": null
          }
        },
        "894034b888884208ab6826ccb74a2de8": {
          "model_module": "@jupyter-widgets/controls",
          "model_name": "DescriptionStyleModel",
          "state": {
            "_view_name": "StyleView",
            "_model_name": "DescriptionStyleModel",
            "description_width": "",
            "_view_module": "@jupyter-widgets/base",
            "_model_module_version": "1.5.0",
            "_view_count": null,
            "_view_module_version": "1.2.0",
            "_model_module": "@jupyter-widgets/controls"
          }
        },
        "e58879dd8bc84d1a82782958a59623b7": {
          "model_module": "@jupyter-widgets/base",
          "model_name": "LayoutModel",
          "state": {
            "_view_name": "LayoutView",
            "grid_template_rows": null,
            "right": null,
            "justify_content": null,
            "_view_module": "@jupyter-widgets/base",
            "overflow": null,
            "_model_module_version": "1.2.0",
            "_view_count": null,
            "flex_flow": null,
            "width": null,
            "min_width": null,
            "border": null,
            "align_items": null,
            "bottom": null,
            "_model_module": "@jupyter-widgets/base",
            "top": null,
            "grid_column": null,
            "overflow_y": null,
            "overflow_x": null,
            "grid_auto_flow": null,
            "grid_area": null,
            "grid_template_columns": null,
            "flex": null,
            "_model_name": "LayoutModel",
            "justify_items": null,
            "grid_row": null,
            "max_height": null,
            "align_content": null,
            "visibility": null,
            "align_self": null,
            "height": null,
            "min_height": null,
            "padding": null,
            "grid_auto_rows": null,
            "grid_gap": null,
            "max_width": null,
            "order": null,
            "_view_module_version": "1.2.0",
            "grid_template_areas": null,
            "object_position": null,
            "object_fit": null,
            "grid_auto_columns": null,
            "margin": null,
            "display": null,
            "left": null
          }
        }
      }
    }
  },
  "cells": [
    {
      "cell_type": "markdown",
      "metadata": {
        "id": "tAq4PoXJL-sW",
        "colab_type": "text"
      },
      "source": [
        "Category 4 of the TF certification exam is NLP text classification with real-world text dataset. This notebook covers how we prepare text data for training and the possible layers for handling text data. It also covers how we may use text data to predict the following word, which allows us to generate our own text."
      ]
    },
    {
      "cell_type": "code",
      "metadata": {
        "id": "_YJZBHAz8VGj",
        "colab_type": "code",
        "colab": {}
      },
      "source": [
        "try:\n",
        "  # %tensorflow_version only exists in Colab.\n",
        "  %tensorflow_version 2.x\n",
        "except Exception:\n",
        "  pass\n",
        "import tensorflow as tf\n",
        "\n",
        "import tensorflow_datasets as tfds\n",
        "import numpy as np\n",
        "import io\n",
        "\n",
        "from tensorflow import keras as k\n",
        "\n",
        "from tensorflow.keras.preprocessing.text import Tokenizer\n",
        "from tensorflow.keras.preprocessing.sequence import pad_sequences\n",
        "\n",
        "import matplotlib.pyplot as plt\n"
      ],
      "execution_count": 0,
      "outputs": []
    },
    {
      "cell_type": "markdown",
      "metadata": {
        "id": "3Rc1ebiwqpbJ",
        "colab_type": "text"
      },
      "source": [
        "The IMDB movie review dataset is used for these notes.\n",
        "\n",
        "\n"
      ]
    },
    {
      "cell_type": "code",
      "metadata": {
        "id": "g-vzz-8Jr3rj",
        "colab_type": "code",
        "outputId": "f816edf6-3476-461c-d41c-c8976cf99750",
        "colab": {
          "base_uri": "https://localhost:8080/",
          "height": 336,
          "referenced_widgets": [
            "b83a77c1bfdb4d15a009bd7192f1e9d3",
            "967893d4c8d14a93838d9dbc591de10a",
            "79cdf42e88d149cab7ac774f18de4657",
            "81f26e5e7dbc43118e313d7715c7a270",
            "fccaa65b43134332a962183a1dbf568d",
            "23700238f579459093900b24ac8abac5",
            "ea60ffa5c031491aaa16fbd5adeac34a",
            "367446b0890a4e8e8ee71f15aaae31d8",
            "9d0b385f8c1040e5972935603c2c987e",
            "84a870a5c6794f559ea4bf1cca8d4ca0",
            "7d98a8682a2d482f9d3c8f4e669527cf",
            "ac5260b382914cd09b9cc36bfd182fba",
            "f324451b5e6d42f2bbb116a4db9359d2",
            "df8e8fb0990f4c7aadf39e582f2855da",
            "d4524cf63f6b49f49c8cb8a3e3fbce32",
            "8f638f0e0e574f75ab99b445999d434d",
            "c38df19ada904cbf8164845d7b62f8bf",
            "ecf742750d5648f087d9cb55de69e2ff",
            "baba2aa7614f42ffa6abcced8a73f558",
            "ac5b1cbec10d40f29519ebf1a26b7781",
            "8ca616b6ba2b4752a31969d0b6f44a78",
            "bea4cbf8ff344c879f4952a1fb8aeeb9",
            "b228e34677c746f9bbf95f3aa88fb851",
            "08f89058c49e43d586aecd0bc9663f95",
            "14f0574bab07421cb4ac5a42d434bdb3",
            "4bf39aae972b4778a1150ab3eead9075",
            "2af678ff2d59439abe731acc400ae93b",
            "d04c64b990a04de1879c205519d9d2f9",
            "2e869e59880148e09461664970ef840a",
            "012670a8fe6c43dabe61a91dea389731",
            "7afd4e07d63842d9a261014771307acc",
            "7759a9ad64db40c4847b50e984557145",
            "17c1c54cf07c47d292232f17fa9e1349",
            "2fb49434a540476c9a211359094c7941",
            "41c1826f001140eabb20186107fe2cce",
            "2c6984c00b99499bbfbee27d1af1dc59",
            "ff28330de2234dc982b2e9102c693a72",
            "b78c3107878b48b99c39c63f15f11b44",
            "6e8deebbf1f2470da89ca214411e1551",
            "e0c8729185e34f878f64e4a9abdfcaf9",
            "ed5644b019f14ae49db06a4f6350c662",
            "c11abb9f027f4da9b49a7a37bc1fd11d",
            "8e0072d0a0c14b6ab566afccdc21b681",
            "e2c4355bc6ff496d992073af205fdf87",
            "428b0e7337fd4986886ce52ee1039da9",
            "2ccf5cbda1ff482eb3a12c184fd005b2",
            "ace8cc2d512342069934af6ce559a56d",
            "e3845746e80844d5a66c8050ba414965",
            "5d1be203d597463f97c27a6bbc497a49",
            "88fa2901bce74cb2aa2f48fee79b8633",
            "2e6d06597f7e4436b45115d92d85497a",
            "e32754cca3bf4edbbaf1f145b2d3d4b7",
            "d9e2da61550c4f83a7cca0ac72afc612",
            "ec165138ccc2465285cd68798bdef70d",
            "ac977046b7864a75a637a3bd38e96902",
            "8c44c13b4bbd4765bca1625ef90c4e59",
            "49c3ff7216f84aaa9f417eeaab90fa73",
            "5630f5da611746d1b52e8ce94225b4fb",
            "f81149fed21b45a9859757dac70d0d56",
            "d7658ff039114e2a864a4411c9d22b6f",
            "583ccec6badc4386a620c2548a9cf764",
            "6369f752cb7e42359f11f2e169cc6fa5",
            "894034b888884208ab6826ccb74a2de8",
            "e58879dd8bc84d1a82782958a59623b7"
          ]
        }
      },
      "source": [
        "imdb, info = tfds.load('imdb_reviews', with_info=True,\n",
        "                       as_supervised=True)"
      ],
      "execution_count": 2,
      "outputs": [
        {
          "output_type": "stream",
          "text": [
            "\u001b[1mDownloading and preparing dataset imdb_reviews/plain_text/1.0.0 (download: 80.23 MiB, generated: Unknown size, total: 80.23 MiB) to /root/tensorflow_datasets/imdb_reviews/plain_text/1.0.0...\u001b[0m\n"
          ],
          "name": "stdout"
        },
        {
          "output_type": "display_data",
          "data": {
            "application/vnd.jupyter.widget-view+json": {
              "model_id": "b83a77c1bfdb4d15a009bd7192f1e9d3",
              "version_minor": 0,
              "version_major": 2
            },
            "text/plain": [
              "HBox(children=(IntProgress(value=1, bar_style='info', description='Dl Completed...', max=1, style=ProgressStyl…"
            ]
          },
          "metadata": {
            "tags": []
          }
        },
        {
          "output_type": "display_data",
          "data": {
            "application/vnd.jupyter.widget-view+json": {
              "model_id": "9d0b385f8c1040e5972935603c2c987e",
              "version_minor": 0,
              "version_major": 2
            },
            "text/plain": [
              "HBox(children=(IntProgress(value=1, bar_style='info', description='Dl Size...', max=1, style=ProgressStyle(des…"
            ]
          },
          "metadata": {
            "tags": []
          }
        },
        {
          "output_type": "stream",
          "text": [
            "\n",
            "\n",
            "\n"
          ],
          "name": "stdout"
        },
        {
          "output_type": "display_data",
          "data": {
            "application/vnd.jupyter.widget-view+json": {
              "model_id": "c38df19ada904cbf8164845d7b62f8bf",
              "version_minor": 0,
              "version_major": 2
            },
            "text/plain": [
              "HBox(children=(IntProgress(value=1, bar_style='info', max=1), HTML(value='')))"
            ]
          },
          "metadata": {
            "tags": []
          }
        },
        {
          "output_type": "stream",
          "text": [
            "\rShuffling and writing examples to /root/tensorflow_datasets/imdb_reviews/plain_text/1.0.0.incompleteSJQFGG/imdb_reviews-train.tfrecord\n"
          ],
          "name": "stdout"
        },
        {
          "output_type": "display_data",
          "data": {
            "application/vnd.jupyter.widget-view+json": {
              "model_id": "14f0574bab07421cb4ac5a42d434bdb3",
              "version_minor": 0,
              "version_major": 2
            },
            "text/plain": [
              "HBox(children=(IntProgress(value=0, max=25000), HTML(value='')))"
            ]
          },
          "metadata": {
            "tags": []
          }
        },
        {
          "output_type": "stream",
          "text": [
            "\r"
          ],
          "name": "stdout"
        },
        {
          "output_type": "display_data",
          "data": {
            "application/vnd.jupyter.widget-view+json": {
              "model_id": "17c1c54cf07c47d292232f17fa9e1349",
              "version_minor": 0,
              "version_major": 2
            },
            "text/plain": [
              "HBox(children=(IntProgress(value=1, bar_style='info', max=1), HTML(value='')))"
            ]
          },
          "metadata": {
            "tags": []
          }
        },
        {
          "output_type": "stream",
          "text": [
            "\rShuffling and writing examples to /root/tensorflow_datasets/imdb_reviews/plain_text/1.0.0.incompleteSJQFGG/imdb_reviews-test.tfrecord\n"
          ],
          "name": "stdout"
        },
        {
          "output_type": "display_data",
          "data": {
            "application/vnd.jupyter.widget-view+json": {
              "model_id": "ed5644b019f14ae49db06a4f6350c662",
              "version_minor": 0,
              "version_major": 2
            },
            "text/plain": [
              "HBox(children=(IntProgress(value=0, max=25000), HTML(value='')))"
            ]
          },
          "metadata": {
            "tags": []
          }
        },
        {
          "output_type": "stream",
          "text": [
            "\r"
          ],
          "name": "stdout"
        },
        {
          "output_type": "display_data",
          "data": {
            "application/vnd.jupyter.widget-view+json": {
              "model_id": "5d1be203d597463f97c27a6bbc497a49",
              "version_minor": 0,
              "version_major": 2
            },
            "text/plain": [
              "HBox(children=(IntProgress(value=1, bar_style='info', max=1), HTML(value='')))"
            ]
          },
          "metadata": {
            "tags": []
          }
        },
        {
          "output_type": "stream",
          "text": [
            "\rShuffling and writing examples to /root/tensorflow_datasets/imdb_reviews/plain_text/1.0.0.incompleteSJQFGG/imdb_reviews-unsupervised.tfrecord\n"
          ],
          "name": "stdout"
        },
        {
          "output_type": "display_data",
          "data": {
            "application/vnd.jupyter.widget-view+json": {
              "model_id": "49c3ff7216f84aaa9f417eeaab90fa73",
              "version_minor": 0,
              "version_major": 2
            },
            "text/plain": [
              "HBox(children=(IntProgress(value=0, max=50000), HTML(value='')))"
            ]
          },
          "metadata": {
            "tags": []
          }
        },
        {
          "output_type": "stream",
          "text": [
            "\r\u001b[1mDataset imdb_reviews downloaded and prepared to /root/tensorflow_datasets/imdb_reviews/plain_text/1.0.0. Subsequent calls will reuse this data.\u001b[0m\n"
          ],
          "name": "stdout"
        }
      ]
    },
    {
      "cell_type": "code",
      "metadata": {
        "id": "0e6eVewmsqcO",
        "colab_type": "code",
        "colab": {}
      },
      "source": [
        "train_data, test_data = imdb['train'], imdb['test']"
      ],
      "execution_count": 0,
      "outputs": []
    },
    {
      "cell_type": "code",
      "metadata": {
        "id": "f20_SwDWs4lK",
        "colab_type": "code",
        "colab": {}
      },
      "source": [
        "# Store training data\n",
        "x_train = []\n",
        "y_train = []\n",
        "\n",
        "x_test = []\n",
        "y_test = []\n",
        "\n",
        "# Add train data\n",
        "for sent, l in train_data:\n",
        "  x_train.append(str(sent.numpy()))\n",
        "  y_train.append(l.numpy())\n",
        "  \n",
        "# Add test data\n",
        "for sent, l in test_data:\n",
        "  x_test.append(str(sent.numpy()))\n",
        "  y_test.append(l.numpy())\n",
        "\n",
        "# labels must be cast to numpy arrays\n",
        "y_train = np.array(y_train)\n",
        "y_test = np.array(y_test)"
      ],
      "execution_count": 0,
      "outputs": []
    },
    {
      "cell_type": "markdown",
      "metadata": {
        "id": "QvO0agZ2HO20",
        "colab_type": "text"
      },
      "source": [
        "Given our neural networks operate on numbers, we need a numerical representation of the words in our text. This is handled by the `tensorflow.keras.preprocessing.text.Tokenizer` class. It converts our words to indices and stores this as the `word_index` attribute. By default all punctuation is stripped and the strings are lowered, this can be prevented by passing the `filter` and `lower` arguments to the [tokenizer](https://www.tensorflow.org/api_docs/python/tf/keras/preprocessing/text/Tokenizer). \n",
        "\n",
        "`vocab_size` - number of unique words to store in the vocab.\n",
        "\n",
        "`embed_dim` - size of embedding dimension\n",
        "\n",
        "`max_length` - max allowed length of sequences\n",
        "\n",
        "`trunc` - whether to truncate at the beginning or end if the sequence exceeds `max_length`\n",
        "\n",
        "`pad` - pre or post padding of sequences smaller than `max_length`\n",
        "\n",
        "`oov` - token to use for out of vocabulary words"
      ]
    },
    {
      "cell_type": "code",
      "metadata": {
        "id": "5G-DRWlwuJ0W",
        "colab_type": "code",
        "colab": {}
      },
      "source": [
        "vocab_size = 10000\n",
        "embed_dim = 16\n",
        "max_length = 120\n",
        "trunc = 'post'  # 'pre' or 'post'\n",
        "pad = 'pre' # 'pre' or 'post'\n",
        "oov = '<OOV>'\n",
        "\n",
        "# Initialize tokenizer\n",
        "tokenizer = Tokenizer(num_words = vocab_size,\n",
        "                      oov_token=oov)\n",
        "\n",
        "# Generate the vocab from our text data\n",
        "tokenizer.fit_on_texts(x_train)\n",
        "\n",
        "# Get word2idx for decoding\n",
        "word2idx = tokenizer.word_index\n",
        "\n",
        "# Transform train/test texts to sequences\n",
        "sequences = tokenizer.texts_to_sequences(x_train)\n",
        "test_seq = tokenizer.texts_to_sequences(x_test)\n",
        "\n",
        "# Pad and truncate train/test sequences\n",
        "padded = pad_sequences(sequences, padding=pre, maxlen=max_length, truncating=trunc)\n",
        "test_pad = pad_sequences(test_seq, maxlen=max_length)"
      ],
      "execution_count": 0,
      "outputs": []
    },
    {
      "cell_type": "markdown",
      "metadata": {
        "id": "8-B9nmzvJ8qb",
        "colab_type": "text"
      },
      "source": [
        "We may be asked to decode sentences from our sequences, simply reverse the word2idx and cast to a dictionary to generate `idx2word`."
      ]
    },
    {
      "cell_type": "code",
      "metadata": {
        "id": "y2oq_SmmvF0F",
        "colab_type": "code",
        "colab": {
          "base_uri": "https://localhost:8080/",
          "height": 72
        },
        "outputId": "7cb22c1b-46f8-472d-f315-ffe9b7dd3e17"
      },
      "source": [
        "idx2word = dict([(v,k) for (k,v) in word2idx.items()])\n",
        "\n",
        "def decode(text):\n",
        "  # Decodes a sequence using idx2word dict\n",
        "    return ' '.join([idx2word.get(i, '?') for i in text])\n",
        "\n",
        "# Check it works - the initial ?'s correspond to padding\n",
        "print(decode(padded[1]))\n",
        "print(x_train[1])"
      ],
      "execution_count": 6,
      "outputs": [
        {
          "output_type": "stream",
          "text": [
            "? ? ? ? ? ? ? b'i have been known to fall asleep during films but this is usually due to a combination of things including really tired being warm and comfortable on the <OOV> and having just eaten a lot however on this occasion i fell asleep because the film was rubbish the plot development was constant constantly slow and boring things seemed to happen but with no explanation of what was causing them or why i admit i may have missed part of the film but i watched the majority of it and everything just seemed to happen of its own <OOV> without any real concern for anything else i cant recommend this film at all '\n",
            "b'I have been known to fall asleep during films, but this is usually due to a combination of things including, really tired, being warm and comfortable on the sette and having just eaten a lot. However on this occasion I fell asleep because the film was rubbish. The plot development was constant. Constantly slow and boring. Things seemed to happen, but with no explanation of what was causing them or why. I admit, I may have missed part of the film, but i watched the majority of it and everything just seemed to happen of its own accord without any real concern for anything else. I cant recommend this film at all.'\n"
          ],
          "name": "stdout"
        }
      ]
    },
    {
      "cell_type": "markdown",
      "metadata": {
        "id": "UQEYU_Z8Gzb2",
        "colab_type": "text"
      },
      "source": [
        "After passing the text sequences to the embedding layer (this simply learns [embeddings](https://en.wikipedia.org/wiki/Word_embedding) for each word), we have a few options for building the rest of the network:\n",
        "\n",
        "*   `layers.LSTM` - Long term short term memory\n",
        "*   `layers.GRU` - Gated recurrent units\n",
        "*   `layers.Bidirectional` wrapper - makes LSTM/GRU bidrectional\n",
        "*   `layers.Conv1D` - temporal convolutions\n",
        "\n",
        "Note: Temporal convolutions will be followed up with `GlobalAveragePooling1D` or `GlobalMaxPooling1D` prior to passing to a Dense layer. \n",
        "\n",
        "\n",
        "The `build_model` function below is just an exhaustion of the above possibilities."
      ]
    },
    {
      "cell_type": "code",
      "metadata": {
        "id": "iDzVsck3vaF0",
        "colab_type": "code",
        "colab": {}
      },
      "source": [
        "def build_model(units = 32, layer_type = 'lstm', bidirectional = False, rec_count = 1):\n",
        "  \n",
        "  # units - units in recurrent layers\n",
        "  # layer_type - one of {'lstm', 'gru', 'conv'}\n",
        "  # bidirectional - bidirectional recurrent layers\n",
        "  # rec_count - number of recurrent layers\n",
        "\n",
        "  layer_types = ['lstm', 'gru', 'conv']\n",
        "\n",
        "  if layer_type not in layer_types:\n",
        "    raise ValueError(\"Invalid layer type. Expected one of: {}\".format(repr(layer_types)))\n",
        "  \n",
        "  model = k.Sequential()\n",
        "  # Text modelling begins with embeddings\n",
        "  model.add(k.layers.Embedding(vocab_size, embed_dim, input_length=max_length))\n",
        "\n",
        "  if layer_type == 'lstm':\n",
        "\n",
        "    if bidirectional:\n",
        "      for _ in range(rec_count-1):\n",
        "        # Recurrent layers which pass their outputs to another recurrent layer \n",
        "        # need the `return_sequences` argument set to True.\n",
        "        model.add(k.layers.Bidirectional(k.layers.LSTM(units, return_sequences=True, activation='relu')))\n",
        "      # Final recurrent layer does not need to return sequences\n",
        "      model.add(k.layers.Bidirectional(k.layers.LSTM(units, activation='relu')))\n",
        "\n",
        "    else:\n",
        "      for _ in range(rec_count-1):\n",
        "        model.add(k.layers.LSTM(units, activation='relu', return_sequences=True))\n",
        "      model.add(k.layers.LSTM(units, activation='relu'))\n",
        "\n",
        "  elif layer_type == 'gru':\n",
        "\n",
        "    if bidirectional:\n",
        "      for _ in range(rec_count-1):\n",
        "        model.add(k.layers.Bidirectional(k.layers.GRU(units, activation='relu', return_sequences=True)))\n",
        "      model.add(k.layers.Bidirectional(k.layers.GRU(units, activation='relu')))\n",
        "\n",
        "    else:\n",
        "      for _ in range(rec_count-1):\n",
        "        model.add(k.layers.GRU(units, activation='relu', return_sequences=True))\n",
        "      model.add(k.layers.GRU(units, activation='relu'))\n",
        "\n",
        "  else:\n",
        "\n",
        "    model.add(k.layers.Conv1D(128, 5, activation='relu'))\n",
        "    \n",
        "    # Either average or max pooling may be used - you could even use both\n",
        "    # if using the functional API\n",
        "    model.add(k.layers.GlobalAveragePooling1D())\n",
        "    #model.add(k.layers.GlobalMaxPooling1D())\n",
        "\n",
        "  # Dense layers form the head of our network as usual\n",
        "  model.add(k.layers.Dense(32, activation='relu'))\n",
        "  model.add(k.layers.Dense(1, activation='sigmoid'))\n",
        "\n",
        "  return model"
      ],
      "execution_count": 0,
      "outputs": []
    },
    {
      "cell_type": "code",
      "metadata": {
        "id": "NE0Jp59g6Cz9",
        "colab_type": "code",
        "colab": {}
      },
      "source": [
        "model = build_model(32, 'conv', True, 2)"
      ],
      "execution_count": 0,
      "outputs": []
    },
    {
      "cell_type": "code",
      "metadata": {
        "id": "zkpE4-0iznX6",
        "colab_type": "code",
        "colab": {}
      },
      "source": [
        "model.compile(loss='binary_crossentropy',optimizer='adam',metrics=['accuracy'])"
      ],
      "execution_count": 0,
      "outputs": []
    },
    {
      "cell_type": "markdown",
      "metadata": {
        "id": "4FWLZ58xPIu6",
        "colab_type": "text"
      },
      "source": [
        "We can now train the model as usual. It clearly overfits very fast, this can be mitigated through dropouts or increased weight decay."
      ]
    },
    {
      "cell_type": "code",
      "metadata": {
        "id": "x3dWm5l_zrTo",
        "colab_type": "code",
        "outputId": "0e0d9669-4c49-413d-e9a7-f8517182a617",
        "colab": {
          "base_uri": "https://localhost:8080/",
          "height": 419
        }
      },
      "source": [
        "epochs = 10\n",
        "model.fit(padded, y_train, epochs=epochs, validation_data=(test_pad, y_test))"
      ],
      "execution_count": 10,
      "outputs": [
        {
          "output_type": "stream",
          "text": [
            "Train on 25000 samples, validate on 25000 samples\n",
            "Epoch 1/10\n",
            "25000/25000 [==============================] - 17s 668us/sample - loss: 0.4310 - accuracy: 0.7898 - val_loss: 0.3602 - val_accuracy: 0.8378\n",
            "Epoch 2/10\n",
            "25000/25000 [==============================] - 10s 390us/sample - loss: 0.2775 - accuracy: 0.8854 - val_loss: 0.3565 - val_accuracy: 0.8454\n",
            "Epoch 3/10\n",
            "25000/25000 [==============================] - 10s 392us/sample - loss: 0.2241 - accuracy: 0.9138 - val_loss: 0.3955 - val_accuracy: 0.8323\n",
            "Epoch 4/10\n",
            "25000/25000 [==============================] - 10s 386us/sample - loss: 0.1794 - accuracy: 0.9342 - val_loss: 0.4363 - val_accuracy: 0.8310\n",
            "Epoch 5/10\n",
            "25000/25000 [==============================] - 10s 403us/sample - loss: 0.1423 - accuracy: 0.9499 - val_loss: 0.4879 - val_accuracy: 0.8239\n",
            "Epoch 6/10\n",
            "25000/25000 [==============================] - 10s 418us/sample - loss: 0.1124 - accuracy: 0.9635 - val_loss: 0.5606 - val_accuracy: 0.8174\n",
            "Epoch 7/10\n",
            "25000/25000 [==============================] - 10s 405us/sample - loss: 0.0864 - accuracy: 0.9732 - val_loss: 0.6789 - val_accuracy: 0.8152\n",
            "Epoch 8/10\n",
            "25000/25000 [==============================] - 10s 411us/sample - loss: 0.0683 - accuracy: 0.9790 - val_loss: 0.7638 - val_accuracy: 0.8098\n",
            "Epoch 9/10\n",
            "25000/25000 [==============================] - 10s 402us/sample - loss: 0.0537 - accuracy: 0.9831 - val_loss: 0.8553 - val_accuracy: 0.8036\n",
            "Epoch 10/10\n",
            "25000/25000 [==============================] - 10s 399us/sample - loss: 0.0422 - accuracy: 0.9871 - val_loss: 0.9229 - val_accuracy: 0.8030\n"
          ],
          "name": "stdout"
        },
        {
          "output_type": "execute_result",
          "data": {
            "text/plain": [
              "<tensorflow.python.keras.callbacks.History at 0x7f04f46ea668>"
            ]
          },
          "metadata": {
            "tags": []
          },
          "execution_count": 10
        }
      ]
    },
    {
      "cell_type": "markdown",
      "metadata": {
        "id": "y5x_sTw2NBVF",
        "colab_type": "text"
      },
      "source": [
        "Word embeddings can be visualized using the [Embedding Projector](https://projector.tensorflow.org/) provided by TF. We simply need to save our words and their embeddings into .tsv files and then upload them onto the Projector site. Whilst this is unlikely to be tested it is still very cool to play around with."
      ]
    },
    {
      "cell_type": "code",
      "metadata": {
        "id": "BbPY2aQxN_e9",
        "colab_type": "code",
        "colab": {}
      },
      "source": [
        "# Grab the embedding layer\n",
        "e = model.layers[0]\n",
        "# Grab the embeddings\n",
        "weights = e.get_weights()[0]"
      ],
      "execution_count": 0,
      "outputs": []
    },
    {
      "cell_type": "code",
      "metadata": {
        "id": "Y063G31QNxiQ",
        "colab_type": "code",
        "colab": {}
      },
      "source": [
        "# out_v stores our embeddings (vectors)\n",
        "# out_m stores the words (metadata)\n",
        "\n",
        "out_v = io.open('vecs.tsv', 'w', encoding='utf-8')\n",
        "out_m = io.open('meta.tsv', 'w', encoding='utf-8')\n",
        "for idx in range(1, vocab_size):\n",
        "  word = idx2word[idx]\n",
        "  embeddings = weights[idx]\n",
        "  out_m.write(word + \"\\n\")\n",
        "  out_v.write('\\t'.join([str(x) for x in embeddings]) + \"\\n\")\n",
        "out_v.close()\n",
        "out_m.close()"
      ],
      "execution_count": 0,
      "outputs": []
    },
    {
      "cell_type": "code",
      "metadata": {
        "id": "9leXyQmjOKI0",
        "colab_type": "code",
        "colab": {}
      },
      "source": [
        "# Use this to download them from colab\n",
        "\n",
        "try:\n",
        "  from google.colab import files\n",
        "except ImportError:\n",
        "  pass\n",
        "else:\n",
        "  files.download('vecs.tsv')\n",
        "  files.download('meta.tsv')"
      ],
      "execution_count": 0,
      "outputs": []
    },
    {
      "cell_type": "markdown",
      "metadata": {
        "id": "yddhP5UCPoaZ",
        "colab_type": "text"
      },
      "source": [
        "We have now seen how to classify text, we now move onto generation. Generation can be achieved by simply setting a sequence of words as the input with the following word as the label. This turns generation into a form of prediction - the model is attempting to predict the next word from some sequence of words. A collection of Irish songs is used for this section."
      ]
    },
    {
      "cell_type": "code",
      "metadata": {
        "id": "JJeiLmELOdJO",
        "colab_type": "code",
        "colab": {
          "base_uri": "https://localhost:8080/",
          "height": 228
        },
        "outputId": "cefd2073-e59d-4f2b-b665-c01aa7e0de99"
      },
      "source": [
        "!wget --no-check-certificate \\\n",
        "    https://storage.googleapis.com/laurencemoroney-blog.appspot.com/irish-lyrics-eof.txt \\\n",
        "    -O /tmp/irish-lyrics-eof.txt"
      ],
      "execution_count": 15,
      "outputs": [
        {
          "output_type": "stream",
          "text": [
            "--2020-03-18 11:01:55--  https://storage.googleapis.com/laurencemoroney-blog.appspot.com/irish-lyrics-eof.txt\n",
            "Resolving storage.googleapis.com (storage.googleapis.com)... 74.125.71.128, 2a00:1450:400c:c0a::80\n",
            "Connecting to storage.googleapis.com (storage.googleapis.com)|74.125.71.128|:443... connected.\n",
            "HTTP request sent, awaiting response... 200 OK\n",
            "Length: 68970 (67K) [text/plain]\n",
            "Saving to: ‘/tmp/irish-lyrics-eof.txt’\n",
            "\n",
            "\r          /tmp/iris   0%[                    ]       0  --.-KB/s               \r/tmp/irish-lyrics-e 100%[===================>]  67.35K  --.-KB/s    in 0s      \n",
            "\n",
            "2020-03-18 11:01:56 (139 MB/s) - ‘/tmp/irish-lyrics-eof.txt’ saved [68970/68970]\n",
            "\n"
          ],
          "name": "stdout"
        }
      ]
    },
    {
      "cell_type": "code",
      "metadata": {
        "id": "yMhGPr9SToE5",
        "colab_type": "code",
        "colab": {}
      },
      "source": [
        "tokenizer = Tokenizer() \n",
        "\n",
        "data = open('/tmp/irish-lyrics-eof.txt').read()\n",
        "\n",
        "# lowercase and split sentences\n",
        "text = data.lower().split('\\n')\n",
        "\n",
        "tokenizer.fit_on_texts(text)\n",
        "\n",
        "# Add 1 for OOV words\n",
        "word_count = len(tokenizer.word_index) + 1 "
      ],
      "execution_count": 0,
      "outputs": []
    },
    {
      "cell_type": "markdown",
      "metadata": {
        "id": "SXyleGP8dAKu",
        "colab_type": "text"
      },
      "source": [
        "With our data seperated into sentences, we are going to grab sentences one at a time and generate n-grams from them. For example, if our sentence has been numericalized as such:\n",
        "\n",
        "[1, 2, 3, 4, 5, 6, 7]\n",
        "\n",
        "Then we form the following n-gram sequences:\n",
        "\n",
        "[1, 2]\n",
        "\n",
        "[1, 2, 3]\n",
        "\n",
        "[1, 2, 3, 4]\n",
        "\n",
        "[1, 2, 3, 4, 5]\n",
        "\n",
        "etc."
      ]
    },
    {
      "cell_type": "code",
      "metadata": {
        "id": "mKn8S2c-XYCe",
        "colab_type": "code",
        "colab": {}
      },
      "source": [
        "sequences = []\n",
        "\n",
        "for line in text:\n",
        "  # Returns a list in a list, so index at 0 to grab the list\n",
        "\ttoken_list = tokenizer.texts_to_sequences([line])[0]\n",
        "\tfor i in range(1, len(token_list)):\n",
        "   # Create incremental n-gram sequences\n",
        "\t\tn_gram_sequence = token_list[:i+1]\n",
        "\t\tsequences.append(n_gram_sequence)"
      ],
      "execution_count": 0,
      "outputs": []
    },
    {
      "cell_type": "markdown",
      "metadata": {
        "id": "KEzXrA92dzjQ",
        "colab_type": "text"
      },
      "source": [
        "We now take our n-gram sequences and pad them to the length of the largest sequence. Here we use pre padding since it allows us to easily grab the label from a sequence (remember, the label will be the last number in the sequence - post padding would make this complicated)."
      ]
    },
    {
      "cell_type": "code",
      "metadata": {
        "id": "AgC-mbH3X1cV",
        "colab_type": "code",
        "colab": {}
      },
      "source": [
        "# Get length of longest sequence\n",
        "max_sequence_len = max([len(x) for x in sequences])\n",
        "# Pad all sequences to this length\n",
        "padded_sequences = np.array(pad_sequences(sequences,\n",
        "                                         maxlen=max_sequence_len, \n",
        "                                         padding='pre'))"
      ],
      "execution_count": 0,
      "outputs": []
    },
    {
      "cell_type": "markdown",
      "metadata": {
        "id": "3gKTBir9eCbp",
        "colab_type": "text"
      },
      "source": [
        "We now take each sequence (suppose they are all length `X`) and use the first `X-1` numbers as input and the number at `X` as the label. For example, given a sequence:\n",
        "\n",
        "[1, 2, 3, 4, 5]\n",
        "\n",
        "The input becomes:\n",
        "\n",
        "[1, 2, 3, 4]\n",
        "\n",
        "and the label becomes:\n",
        "\n",
        "[5]"
      ]
    },
    {
      "cell_type": "code",
      "metadata": {
        "id": "9_baVeS_Yzxp",
        "colab_type": "code",
        "colab": {}
      },
      "source": [
        "# Set input/label pairs\n",
        "x_train, y_train = padded_sequences[:,:-1], padded_sequences[:,-1]"
      ],
      "execution_count": 0,
      "outputs": []
    },
    {
      "cell_type": "markdown",
      "metadata": {
        "id": "aBf61hREfDL3",
        "colab_type": "text"
      },
      "source": [
        "Since the model aims to predict the following word (represented as a number) we need to 1-hot encode our labels. This can be done easily using `keras.utils.to_categorical`"
      ]
    },
    {
      "cell_type": "code",
      "metadata": {
        "id": "IzWcXVRSZGvJ",
        "colab_type": "code",
        "colab": {}
      },
      "source": [
        "# 1-hot encode the labels\n",
        "y_train_1hot = tf.keras.utils.to_categorical(y_train, num_classes=word_count)"
      ],
      "execution_count": 0,
      "outputs": []
    },
    {
      "cell_type": "markdown",
      "metadata": {
        "id": "62BndQ9NchmA",
        "colab_type": "text"
      },
      "source": [
        "Now that we have prepared our data, we are ready to define and train the model."
      ]
    },
    {
      "cell_type": "code",
      "metadata": {
        "id": "UVkjgdnqZICA",
        "colab_type": "code",
        "colab": {}
      },
      "source": [
        "model = k.Sequential()\n",
        "# Subtract 1 since we used the last number in each seq as label\n",
        "model.add(k.layers.Embedding(word_count, 100, input_length=max_sequence_len-1))\n",
        "model.add(k.layers.Bidirectional(k.layers.LSTM(150)))\n",
        "model.add(k.layers.Dense(word_count, activation='softmax'))"
      ],
      "execution_count": 0,
      "outputs": []
    },
    {
      "cell_type": "code",
      "metadata": {
        "id": "hg4xlzbSaON3",
        "colab_type": "code",
        "colab": {}
      },
      "source": [
        "# Categorical since it is aiming to predict a word out of many possibilies\n",
        "model.compile(optimizer='adam', loss='categorical_crossentropy', metrics=['accuracy'])"
      ],
      "execution_count": 0,
      "outputs": []
    },
    {
      "cell_type": "code",
      "metadata": {
        "id": "o1gA8M6ZahGi",
        "colab_type": "code",
        "colab": {
          "base_uri": "https://localhost:8080/",
          "height": 1000
        },
        "outputId": "1ecc211f-b48e-44f9-9337-3ad0eba1b815"
      },
      "source": [
        "history = model.fit(x_train, y_train_1hot, epochs=100, verbose=1)"
      ],
      "execution_count": 45,
      "outputs": [
        {
          "output_type": "stream",
          "text": [
            "Train on 12038 samples\n",
            "Epoch 1/100\n",
            "12038/12038 [==============================] - 10s 825us/sample - loss: 6.7560 - accuracy: 0.0650\n",
            "Epoch 2/100\n",
            "12038/12038 [==============================] - 8s 626us/sample - loss: 6.2258 - accuracy: 0.0770\n",
            "Epoch 3/100\n",
            "12038/12038 [==============================] - 8s 629us/sample - loss: 5.9299 - accuracy: 0.0877\n",
            "Epoch 4/100\n",
            "12038/12038 [==============================] - 8s 646us/sample - loss: 5.6068 - accuracy: 0.1007\n",
            "Epoch 5/100\n",
            "12038/12038 [==============================] - 8s 630us/sample - loss: 5.2419 - accuracy: 0.1195\n",
            "Epoch 6/100\n",
            "12038/12038 [==============================] - 8s 628us/sample - loss: 4.8479 - accuracy: 0.1398\n",
            "Epoch 7/100\n",
            "12038/12038 [==============================] - 8s 624us/sample - loss: 4.4558 - accuracy: 0.1666\n",
            "Epoch 8/100\n",
            "12038/12038 [==============================] - 8s 625us/sample - loss: 4.0836 - accuracy: 0.1960\n",
            "Epoch 9/100\n",
            "12038/12038 [==============================] - 7s 622us/sample - loss: 3.7250 - accuracy: 0.2363\n",
            "Epoch 10/100\n",
            "12038/12038 [==============================] - 8s 624us/sample - loss: 3.3894 - accuracy: 0.2921\n",
            "Epoch 11/100\n",
            "12038/12038 [==============================] - 7s 618us/sample - loss: 3.0843 - accuracy: 0.3468\n",
            "Epoch 12/100\n",
            "12038/12038 [==============================] - 8s 623us/sample - loss: 2.7950 - accuracy: 0.4068\n",
            "Epoch 13/100\n",
            "12038/12038 [==============================] - 8s 624us/sample - loss: 2.5481 - accuracy: 0.4560\n",
            "Epoch 14/100\n",
            "12038/12038 [==============================] - 7s 622us/sample - loss: 2.3082 - accuracy: 0.5027\n",
            "Epoch 15/100\n",
            "12038/12038 [==============================] - 7s 623us/sample - loss: 2.1086 - accuracy: 0.5453\n",
            "Epoch 16/100\n",
            "12038/12038 [==============================] - 8s 627us/sample - loss: 1.9298 - accuracy: 0.5844\n",
            "Epoch 17/100\n",
            "12038/12038 [==============================] - 7s 623us/sample - loss: 1.7731 - accuracy: 0.6165\n",
            "Epoch 18/100\n",
            "12038/12038 [==============================] - 8s 623us/sample - loss: 1.6204 - accuracy: 0.6526\n",
            "Epoch 19/100\n",
            "12038/12038 [==============================] - 7s 621us/sample - loss: 1.4882 - accuracy: 0.6828\n",
            "Epoch 20/100\n",
            "12038/12038 [==============================] - 7s 621us/sample - loss: 1.3697 - accuracy: 0.7078\n",
            "Epoch 21/100\n",
            "12038/12038 [==============================] - 7s 623us/sample - loss: 1.2738 - accuracy: 0.7305\n",
            "Epoch 22/100\n",
            "12038/12038 [==============================] - 7s 620us/sample - loss: 1.1766 - accuracy: 0.7482\n",
            "Epoch 23/100\n",
            "12038/12038 [==============================] - 8s 628us/sample - loss: 1.0869 - accuracy: 0.7715\n",
            "Epoch 24/100\n",
            "12038/12038 [==============================] - 7s 622us/sample - loss: 1.0230 - accuracy: 0.7822\n",
            "Epoch 25/100\n",
            "12038/12038 [==============================] - 7s 616us/sample - loss: 0.9497 - accuracy: 0.7971\n",
            "Epoch 26/100\n",
            "12038/12038 [==============================] - 7s 618us/sample - loss: 0.8967 - accuracy: 0.8075\n",
            "Epoch 27/100\n",
            "12038/12038 [==============================] - 7s 622us/sample - loss: 0.8556 - accuracy: 0.8124\n",
            "Epoch 28/100\n",
            "12038/12038 [==============================] - 8s 623us/sample - loss: 0.7997 - accuracy: 0.8250\n",
            "Epoch 29/100\n",
            "12038/12038 [==============================] - 7s 621us/sample - loss: 0.7669 - accuracy: 0.8290\n",
            "Epoch 30/100\n",
            "12038/12038 [==============================] - 7s 617us/sample - loss: 0.7364 - accuracy: 0.8339\n",
            "Epoch 31/100\n",
            "12038/12038 [==============================] - 7s 618us/sample - loss: 0.7132 - accuracy: 0.8388\n",
            "Epoch 32/100\n",
            "12038/12038 [==============================] - 7s 620us/sample - loss: 0.6853 - accuracy: 0.8385\n",
            "Epoch 33/100\n",
            "12038/12038 [==============================] - 7s 620us/sample - loss: 0.6662 - accuracy: 0.8451\n",
            "Epoch 34/100\n",
            "12038/12038 [==============================] - 7s 621us/sample - loss: 0.6521 - accuracy: 0.8436\n",
            "Epoch 35/100\n",
            "12038/12038 [==============================] - 7s 620us/sample - loss: 0.6332 - accuracy: 0.8475\n",
            "Epoch 36/100\n",
            "12038/12038 [==============================] - 8s 637us/sample - loss: 0.6204 - accuracy: 0.8485\n",
            "Epoch 37/100\n",
            "12038/12038 [==============================] - 8s 627us/sample - loss: 0.6129 - accuracy: 0.8468\n",
            "Epoch 38/100\n",
            "12038/12038 [==============================] - 7s 620us/sample - loss: 0.6063 - accuracy: 0.8492\n",
            "Epoch 39/100\n",
            "12038/12038 [==============================] - 7s 621us/sample - loss: 0.5943 - accuracy: 0.8504\n",
            "Epoch 40/100\n",
            "12038/12038 [==============================] - 7s 620us/sample - loss: 0.5855 - accuracy: 0.8506\n",
            "Epoch 41/100\n",
            "12038/12038 [==============================] - 7s 618us/sample - loss: 0.5782 - accuracy: 0.8496\n",
            "Epoch 42/100\n",
            "12038/12038 [==============================] - 7s 622us/sample - loss: 0.5723 - accuracy: 0.8510\n",
            "Epoch 43/100\n",
            "12038/12038 [==============================] - 8s 633us/sample - loss: 0.5617 - accuracy: 0.8520\n",
            "Epoch 44/100\n",
            "12038/12038 [==============================] - 8s 625us/sample - loss: 0.5705 - accuracy: 0.8499\n",
            "Epoch 45/100\n",
            "12038/12038 [==============================] - 8s 635us/sample - loss: 0.5629 - accuracy: 0.8510\n",
            "Epoch 46/100\n",
            "12038/12038 [==============================] - 8s 628us/sample - loss: 0.5525 - accuracy: 0.8535\n",
            "Epoch 47/100\n",
            "12038/12038 [==============================] - 7s 619us/sample - loss: 0.5468 - accuracy: 0.8509\n",
            "Epoch 48/100\n",
            "12038/12038 [==============================] - 7s 621us/sample - loss: 0.5418 - accuracy: 0.8506\n",
            "Epoch 49/100\n",
            "12038/12038 [==============================] - 7s 615us/sample - loss: 0.5407 - accuracy: 0.8513\n",
            "Epoch 50/100\n",
            "12038/12038 [==============================] - 8s 623us/sample - loss: 0.5381 - accuracy: 0.8516\n",
            "Epoch 51/100\n",
            "12038/12038 [==============================] - 7s 616us/sample - loss: 0.5380 - accuracy: 0.8516\n",
            "Epoch 52/100\n",
            "12038/12038 [==============================] - 8s 623us/sample - loss: 0.5322 - accuracy: 0.8523\n",
            "Epoch 53/100\n",
            "12038/12038 [==============================] - 7s 619us/sample - loss: 0.5335 - accuracy: 0.8527\n",
            "Epoch 54/100\n",
            "12038/12038 [==============================] - 7s 616us/sample - loss: 0.5297 - accuracy: 0.8520\n",
            "Epoch 55/100\n",
            "12038/12038 [==============================] - 7s 616us/sample - loss: 0.5307 - accuracy: 0.8511\n",
            "Epoch 56/100\n",
            "12038/12038 [==============================] - 7s 618us/sample - loss: 0.5229 - accuracy: 0.8521\n",
            "Epoch 57/100\n",
            "12038/12038 [==============================] - 7s 615us/sample - loss: 0.5182 - accuracy: 0.8523\n",
            "Epoch 58/100\n",
            "12038/12038 [==============================] - 7s 617us/sample - loss: 0.5172 - accuracy: 0.8519\n",
            "Epoch 59/100\n",
            "12038/12038 [==============================] - 7s 615us/sample - loss: 0.5190 - accuracy: 0.8513\n",
            "Epoch 60/100\n",
            "12038/12038 [==============================] - 7s 616us/sample - loss: 0.5177 - accuracy: 0.8512\n",
            "Epoch 61/100\n",
            "12038/12038 [==============================] - 7s 620us/sample - loss: 0.5177 - accuracy: 0.8519\n",
            "Epoch 62/100\n",
            "12038/12038 [==============================] - 7s 616us/sample - loss: 0.5150 - accuracy: 0.8526\n",
            "Epoch 63/100\n",
            "12038/12038 [==============================] - 7s 615us/sample - loss: 0.5106 - accuracy: 0.8516\n",
            "Epoch 64/100\n",
            "12038/12038 [==============================] - 7s 617us/sample - loss: 0.5111 - accuracy: 0.8523\n",
            "Epoch 65/100\n",
            "12038/12038 [==============================] - 7s 610us/sample - loss: 0.5146 - accuracy: 0.8537\n",
            "Epoch 66/100\n",
            "12038/12038 [==============================] - 7s 615us/sample - loss: 0.5082 - accuracy: 0.8507\n",
            "Epoch 67/100\n",
            "12038/12038 [==============================] - 7s 616us/sample - loss: 0.5044 - accuracy: 0.8520\n",
            "Epoch 68/100\n",
            "12038/12038 [==============================] - 7s 616us/sample - loss: 0.5026 - accuracy: 0.8528\n",
            "Epoch 69/100\n",
            "12038/12038 [==============================] - 7s 617us/sample - loss: 0.4985 - accuracy: 0.8534\n",
            "Epoch 70/100\n",
            "12038/12038 [==============================] - 7s 616us/sample - loss: 0.5032 - accuracy: 0.8530\n",
            "Epoch 71/100\n",
            "12038/12038 [==============================] - 7s 614us/sample - loss: 0.5014 - accuracy: 0.8513\n",
            "Epoch 72/100\n",
            "12038/12038 [==============================] - 7s 612us/sample - loss: 0.4999 - accuracy: 0.8533\n",
            "Epoch 73/100\n",
            "12038/12038 [==============================] - 7s 614us/sample - loss: 0.4976 - accuracy: 0.8528\n",
            "Epoch 74/100\n",
            "12038/12038 [==============================] - 7s 611us/sample - loss: 0.4989 - accuracy: 0.8511\n",
            "Epoch 75/100\n",
            "12038/12038 [==============================] - 7s 613us/sample - loss: 0.4953 - accuracy: 0.8540\n",
            "Epoch 76/100\n",
            "12038/12038 [==============================] - 7s 614us/sample - loss: 0.4959 - accuracy: 0.8509\n",
            "Epoch 77/100\n",
            "12038/12038 [==============================] - 8s 626us/sample - loss: 0.4935 - accuracy: 0.8534\n",
            "Epoch 78/100\n",
            "12038/12038 [==============================] - 8s 624us/sample - loss: 0.4951 - accuracy: 0.8526\n",
            "Epoch 79/100\n",
            "12038/12038 [==============================] - 7s 612us/sample - loss: 0.4947 - accuracy: 0.8532\n",
            "Epoch 80/100\n",
            "12038/12038 [==============================] - 7s 611us/sample - loss: 0.4921 - accuracy: 0.8531\n",
            "Epoch 81/100\n",
            "12038/12038 [==============================] - 7s 613us/sample - loss: 0.4891 - accuracy: 0.8532\n",
            "Epoch 82/100\n",
            "12038/12038 [==============================] - 7s 614us/sample - loss: 0.4894 - accuracy: 0.8523\n",
            "Epoch 83/100\n",
            "12038/12038 [==============================] - 7s 619us/sample - loss: 0.4888 - accuracy: 0.8504\n",
            "Epoch 84/100\n",
            "12038/12038 [==============================] - 7s 617us/sample - loss: 0.4842 - accuracy: 0.8544\n",
            "Epoch 85/100\n",
            "12038/12038 [==============================] - 7s 621us/sample - loss: 0.4879 - accuracy: 0.8526\n",
            "Epoch 86/100\n",
            "12038/12038 [==============================] - 7s 616us/sample - loss: 0.4901 - accuracy: 0.8506\n",
            "Epoch 87/100\n",
            "12038/12038 [==============================] - 8s 634us/sample - loss: 0.4844 - accuracy: 0.8549\n",
            "Epoch 88/100\n",
            "12038/12038 [==============================] - 8s 623us/sample - loss: 0.4833 - accuracy: 0.8535\n",
            "Epoch 89/100\n",
            "12038/12038 [==============================] - 7s 611us/sample - loss: 0.4820 - accuracy: 0.8548\n",
            "Epoch 90/100\n",
            "12038/12038 [==============================] - 7s 616us/sample - loss: 0.4809 - accuracy: 0.8537\n",
            "Epoch 91/100\n",
            "12038/12038 [==============================] - 7s 615us/sample - loss: 0.4801 - accuracy: 0.8550\n",
            "Epoch 92/100\n",
            "12038/12038 [==============================] - 7s 616us/sample - loss: 0.4809 - accuracy: 0.8550\n",
            "Epoch 93/100\n",
            "12038/12038 [==============================] - 7s 618us/sample - loss: 0.4802 - accuracy: 0.8537\n",
            "Epoch 94/100\n",
            "12038/12038 [==============================] - 7s 612us/sample - loss: 0.4792 - accuracy: 0.8530\n",
            "Epoch 95/100\n",
            "12038/12038 [==============================] - 7s 610us/sample - loss: 0.4860 - accuracy: 0.8525\n",
            "Epoch 96/100\n",
            "12038/12038 [==============================] - 7s 609us/sample - loss: 0.5107 - accuracy: 0.8465\n",
            "Epoch 97/100\n",
            "12038/12038 [==============================] - 7s 616us/sample - loss: 0.4835 - accuracy: 0.8528\n",
            "Epoch 98/100\n",
            "12038/12038 [==============================] - 7s 612us/sample - loss: 0.4771 - accuracy: 0.8526\n",
            "Epoch 99/100\n",
            "12038/12038 [==============================] - 7s 617us/sample - loss: 0.4735 - accuracy: 0.8544\n",
            "Epoch 100/100\n",
            "12038/12038 [==============================] - 7s 614us/sample - loss: 0.4729 - accuracy: 0.8538\n"
          ],
          "name": "stdout"
        }
      ]
    },
    {
      "cell_type": "markdown",
      "metadata": {
        "id": "mbjfFfpxasuM",
        "colab_type": "text"
      },
      "source": [
        "Now that our model has been trained to predict a word from a given sequence of words, we are ready to generate some text.\n",
        "\n",
        "Below, we are simply passing our model some input text and getting it to predict the next word. We then add this to the input text and pass it back to the model to predict another word. We continue in this manner til the desired number of words have been generated."
      ]
    },
    {
      "cell_type": "code",
      "metadata": {
        "id": "cEOOHWERamNd",
        "colab_type": "code",
        "colab": {
          "base_uri": "https://localhost:8080/",
          "height": 54
        },
        "outputId": "9e0c16d3-2d45-4612-8a33-9864bbcca9c2"
      },
      "source": [
        "# Initial sequence of words to feed to model\n",
        "seed_text = 'Irish songs are'\n",
        "# Generate this many new words\n",
        "gen_to = 100\n",
        "\n",
        "for _ in range(gen_to):\n",
        "  # Numericalize seed\n",
        "  token_list = tokenizer.texts_to_sequences([seed_text])[0]\n",
        "  # Pad\n",
        "  token_list = pad_sequences([token_list], maxlen=max_sequence_len-1,\n",
        "                             padding='pre')\n",
        "  # Get prediction from input\n",
        "  prediction = model.predict_classes(token_list, verbose=0)\n",
        "  output_word = \"\"\n",
        "\n",
        "  # Run through words til we find the prediction index\n",
        "  for word, index in tokenizer.word_index.items():\n",
        "    if index == prediction:\n",
        "      # Set the word corresponding to the prediction\n",
        "      output_word = word\n",
        "      break\n",
        "  # Add to our current text\n",
        "  seed_text += \" \" + output_word\n",
        "\n",
        "print(seed_text)"
      ],
      "execution_count": 47,
      "outputs": [
        {
          "output_type": "stream",
          "text": [
            "Irish songs are made him a man again has mother been in her hand no more love while proud old narrow warm casey doneen affray skibbereen jenny warm time jenny captain havent dance sweethearts tears bent mythology slower casey alas fingers and margin parlour a score grand loud rags arms and i was side my fathers stone seen he had noise field no affection i had cheeks in a neat locality id died famine arms comes then time jenny get them jenny take me sweethearts one fought for brings started mavrone side sweethearts sweethearts tears but tears sir ivy boreen stand find sir\n"
          ],
          "name": "stdout"
        }
      ]
    },
    {
      "cell_type": "markdown",
      "metadata": {
        "id": "VkoMgS1eerX-",
        "colab_type": "text"
      },
      "source": [
        "It is worth noting that word repetition is more likely to occur if we have used forward recurrent layers. For better generation we should use bidirectional variants.\n",
        "\n",
        "Finally, the above method for prediction may not be suited for a large corpus since we will require a large amount of RAM to store the 1-hot encodings corresponding to large number of words. This can be mitigated using character sequencing, that is, giving the model a sequence of characters and asking it to predict the follow character."
      ]
    }
  ]
}