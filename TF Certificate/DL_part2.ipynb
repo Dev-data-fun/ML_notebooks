{
  "nbformat": 4,
  "nbformat_minor": 0,
  "metadata": {
    "colab": {
      "name": "DL_part2.ipynb",
      "provenance": []
    },
    "kernelspec": {
      "name": "python3",
      "display_name": "Python 3"
    },
    "accelerator": "GPU"
  },
  "cells": [
    {
      "cell_type": "markdown",
      "metadata": {
        "id": "YTTixSu4kSKj",
        "colab_type": "text"
      },
      "source": [
        "Category 3 of the TF certification exam is a convolutional neural network with a real-world image dataset. This involves images which are colored and not uniform. The expectation is being able to use data augmentation and dropout for handling overfitting, as well as plotting training and testing. All of which is covered below.\n",
        "\n",
        "Again, this is adapted from the [course](https://www.coursera.org/specializations/tensorflow-in-practice) cited for preparation."
      ]
    },
    {
      "cell_type": "code",
      "metadata": {
        "id": "KgYMaX_IP0CL",
        "colab_type": "code",
        "outputId": "80da2da6-ccc3-4b02-a3db-5a9773052c49",
        "colab": {
          "base_uri": "https://localhost:8080/",
          "height": 34
        }
      },
      "source": [
        "try:\n",
        "  # %tensorflow_version only exists in Colab.\n",
        "  %tensorflow_version 2.x\n",
        "except Exception:\n",
        "  pass\n",
        "import tensorflow as tf\n",
        "\n",
        "import numpy as np\n",
        "import os\n",
        "import zipfile\n",
        "\n",
        "import matplotlib.pyplot as plt\n",
        "\n",
        "from tensorflow import keras as k\n",
        "from tensorflow.keras import Model\n",
        "from tensorflow.keras.preprocessing.image import ImageDataGenerator"
      ],
      "execution_count": 0,
      "outputs": [
        {
          "output_type": "stream",
          "text": [
            "TensorFlow 2.x selected.\n"
          ],
          "name": "stdout"
        }
      ]
    },
    {
      "cell_type": "markdown",
      "metadata": {
        "id": "lx03_b4RdXLK",
        "colab_type": "text"
      },
      "source": [
        "Here we make use of a pre-trained model to explore transfer learning, since we covered defining our own CNNs previously. Simply put transfer learning is taking the representations learnt by one model on some task and fine tuning them onto a new task. We can use any pretrained model for this, a bunch are available from `keras.applications`. Here we have used a 121-layer [DenseNet](https://arxiv.org/pdf/1608.06993.pdf)."
      ]
    },
    {
      "cell_type": "code",
      "metadata": {
        "id": "gMGHqvrfP3GN",
        "colab_type": "code",
        "outputId": "6531bbab-6b2a-4b60-95e9-02f63947105e",
        "colab": {
          "base_uri": "https://localhost:8080/",
          "height": 72
        }
      },
      "source": [
        "# Load pretrained model\n",
        "\n",
        "trained_model = k.applications.DenseNet121(input_shape = (150, 150, 3),\n",
        "                                           # We don't want the linear layers\n",
        "                                           include_top = False,\n",
        "                                           # Pretrained weights to use\n",
        "                                           weights = 'imagenet')"
      ],
      "execution_count": 0,
      "outputs": [
        {
          "output_type": "stream",
          "text": [
            "Downloading data from https://github.com/keras-team/keras-applications/releases/download/densenet/densenet121_weights_tf_dim_ordering_tf_kernels_notop.h5\n",
            "29089792/29084464 [==============================] - 3s 0us/step\n"
          ],
          "name": "stdout"
        }
      ]
    },
    {
      "cell_type": "code",
      "metadata": {
        "id": "p--tsUnzQkOf",
        "colab_type": "code",
        "colab": {}
      },
      "source": [
        "# Freeze layers -  we do not explicitly have to freeze all the layers\n",
        "# you can freeze the initial layers as they will be finding things like curves\n",
        "# and edges, which are relevant to most datasets, whilst the higher layers\n",
        "# will capture more complex characteristic which may not be relevant to our\n",
        "# dataset. If this was the case, we would retrain some of the higher layers\n",
        "# with a low learning rate. \n",
        "\n",
        "for layer in trained_model.layers:\n",
        "  layer.trainable = False"
      ],
      "execution_count": 0,
      "outputs": []
    },
    {
      "cell_type": "code",
      "metadata": {
        "id": "RKeAmgRoQ_Mi",
        "colab_type": "code",
        "colab": {}
      },
      "source": [
        "# Grab last layer's output for passing to our network head which we will \n",
        "# define below.\n",
        "\n",
        "final_layer_output = [layer for layer in trained_model.layers][-1].output"
      ],
      "execution_count": 0,
      "outputs": []
    },
    {
      "cell_type": "markdown",
      "metadata": {
        "id": "clwjOxKfjRhM",
        "colab_type": "text"
      },
      "source": [
        "Overfitting can be prevented through [dropout](http://jmlr.org/papers/v15/srivastava14a.html) layers. Simply masking the outputs of neurons to zero randomly during training. The probability of each activation being 'turned-off' is the float value we pass."
      ]
    },
    {
      "cell_type": "code",
      "metadata": {
        "id": "0bvUXo4vRRRZ",
        "colab_type": "code",
        "colab": {}
      },
      "source": [
        "# Define the head of our network, notice how the Model API may be used\n",
        "# to define a sequence of layers. We are just passing our output from\n",
        "# one layer to the next.\n",
        "\n",
        "x = k.layers.Flatten()(final_layer_output)\n",
        "x = k.layers.Dense(1024, activation='relu')(x)\n",
        "\n",
        "# 20% chance of activation being masked to 0\n",
        "x = k.layers.Dropout(0.2)(x)\n",
        "x = k.layers.Dense(1, activation='sigmoid')(x)"
      ],
      "execution_count": 0,
      "outputs": []
    },
    {
      "cell_type": "code",
      "metadata": {
        "id": "8SaKoTcHSBkz",
        "colab_type": "code",
        "colab": {}
      },
      "source": [
        "# Define a new model by glueing our head onto the pretrained model.\n",
        "\n",
        "model = Model(trained_model.input, x)"
      ],
      "execution_count": 0,
      "outputs": []
    },
    {
      "cell_type": "code",
      "metadata": {
        "id": "WLjXWKK3SMtX",
        "colab_type": "code",
        "colab": {}
      },
      "source": [
        "model.compile(optimizer='adam',\n",
        "              loss='binary_crossentropy',\n",
        "              metrics=['acc'])"
      ],
      "execution_count": 0,
      "outputs": []
    },
    {
      "cell_type": "code",
      "metadata": {
        "id": "H-MDd4zgSTpJ",
        "colab_type": "code",
        "outputId": "949c53b9-1d61-45f4-c49a-c9feb490bdb5",
        "colab": {
          "base_uri": "https://localhost:8080/",
          "height": 228
        }
      },
      "source": [
        "# Get data\n",
        "\n",
        "!wget --no-check-certificate \\\n",
        "        https://storage.googleapis.com/mledu-datasets/cats_and_dogs_filtered.zip \\\n",
        "       -O /tmp/cats_and_dogs_filtered.zip"
      ],
      "execution_count": 0,
      "outputs": [
        {
          "output_type": "stream",
          "text": [
            "--2020-03-17 11:49:33--  https://storage.googleapis.com/mledu-datasets/cats_and_dogs_filtered.zip\n",
            "Resolving storage.googleapis.com (storage.googleapis.com)... 172.217.194.128, 2404:6800:4003:c03::80\n",
            "Connecting to storage.googleapis.com (storage.googleapis.com)|172.217.194.128|:443... connected.\n",
            "HTTP request sent, awaiting response... 200 OK\n",
            "Length: 68606236 (65M) [application/zip]\n",
            "Saving to: ‘/tmp/cats_and_dogs_filtered.zip’\n",
            "\n",
            "\r          /tmp/cats   0%[                    ]       0  --.-KB/s               \r         /tmp/cats_  36%[======>             ]  24.01M  50.1MB/s               \r        /tmp/cats_a  85%[================>   ]  56.01M  69.0MB/s               \r/tmp/cats_and_dogs_ 100%[===================>]  65.43M  78.2MB/s    in 0.8s    \n",
            "\n",
            "2020-03-17 11:49:34 (78.2 MB/s) - ‘/tmp/cats_and_dogs_filtered.zip’ saved [68606236/68606236]\n",
            "\n"
          ],
          "name": "stdout"
        }
      ]
    },
    {
      "cell_type": "code",
      "metadata": {
        "id": "iZMKF5CZSZQB",
        "colab_type": "code",
        "colab": {}
      },
      "source": [
        "# Extract data and set directories\n",
        "\n",
        "zip_file = '/tmp/cats_and_dogs_filtered.zip'\n",
        "\n",
        "zipper = zipfile.ZipFile(zip_file, 'r')\n",
        "zipper.extractall('/tmp')\n",
        "zipper.close()\n",
        "\n",
        "base_dir = '/tmp/cats_and_dogs_filtered'\n",
        "\n",
        "train_dir = os.path.join(base_dir, 'train')\n",
        "val_dir = os.path.join(base_dir, 'validation')"
      ],
      "execution_count": 0,
      "outputs": []
    },
    {
      "cell_type": "markdown",
      "metadata": {
        "id": "qdDg2VL2e78Q",
        "colab_type": "text"
      },
      "source": [
        "Data augmentation is a popular method to prevent overfitting and to generalize our training data. It simply takes the input image and distorts it in some manner, such that it still looks the same, but might be a little squashed or rotated.\n",
        "\n",
        "This is beneficial as our model may know what a cat looks like, but what about an upside down cat?\n",
        "\n",
        "The data augmentation is provided by the `keras.preprocessing` class.\n",
        "\n",
        "We obviously do not want to augment our testing images however. \n",
        "\n",
        "Below are a list of data augmentations used in this model, followed by a list of other possible augmentations."
      ]
    },
    {
      "cell_type": "code",
      "metadata": {
        "id": "YuIMYNYTTE1V",
        "colab_type": "code",
        "colab": {}
      },
      "source": [
        "# rotation_range (int): range of degrees to randomly rotate\n",
        "# width_shift_range (float): range fraction of total width to shift\n",
        "# height_shift_range (float): range fraction of total height to shift\n",
        "# shear_range (float): Shear angle in counter-clockwise direction \n",
        "# zoom_range (float): range for random zoom.\n",
        "# horizontal_flip (boolean): whether to randomly flip horizontally\n",
        "\n",
        "# zca_whitening (boolean): whether to apply ZCA whitening\n",
        "# brightness_range (tuple): range for random brightness shifts\n",
        "# channel_shift_range (float): range for random channel shifts\n",
        "# vertical_flip (boolean): whetehr to randomly flip vertically\n",
        "\n",
        "train_datagen = ImageDataGenerator(rescale = 1./255.,\n",
        "                                   rotation_range = 40,\n",
        "                                   width_shift_range = 0.2,\n",
        "                                   height_shift_range=0.2,\n",
        "                                   shear_range=0.2,\n",
        "                                   zoom_range=0.2,\n",
        "                                   horizontal_flip=True)\n",
        "\n",
        "val_datagen = ImageDataGenerator(rescale=1./255.)"
      ],
      "execution_count": 0,
      "outputs": []
    },
    {
      "cell_type": "code",
      "metadata": {
        "id": "KnWDz61PTjgm",
        "colab_type": "code",
        "outputId": "33e54003-7c60-4931-9688-d05cdb395560",
        "colab": {
          "base_uri": "https://localhost:8080/",
          "height": 52
        }
      },
      "source": [
        "# flow training and testing data from directories\n",
        "\n",
        "train_gen = train_datagen.flow_from_directory(train_dir,\n",
        "                                              batch_size=20,\n",
        "                                              class_mode='binary',\n",
        "                                              target_size=(150,150))\n",
        "\n",
        "val_gen = val_datagen.flow_from_directory(val_dir,\n",
        "                                          batch_size=20,\n",
        "                                          class_mode='binary',\n",
        "                                          target_size=(150,150))\n",
        "\n",
        "# It is worth noting that the data generators also have the flow method\n",
        "# which flows data from input/label pairs "
      ],
      "execution_count": 0,
      "outputs": [
        {
          "output_type": "stream",
          "text": [
            "Found 2000 images belonging to 2 classes.\n",
            "Found 1000 images belonging to 2 classes.\n"
          ],
          "name": "stdout"
        }
      ]
    },
    {
      "cell_type": "code",
      "metadata": {
        "id": "rwOw5FD2T8aG",
        "colab_type": "code",
        "outputId": "c5c45408-09ff-4c8d-9e8c-49848b3a8b7d",
        "colab": {
          "base_uri": "https://localhost:8080/",
          "height": 888
        }
      },
      "source": [
        "# fit method returns the History callback, we use this\n",
        "# for plotting our results later.\n",
        "\n",
        "history = model.fit(train_gen, \n",
        "                    validation_data=val_gen,\n",
        "                    # num samples = steps_per_epoch * batch\n",
        "                    steps_per_epoch=100,\n",
        "                    epochs=20,\n",
        "                    validation_steps=50)"
      ],
      "execution_count": 0,
      "outputs": [
        {
          "output_type": "stream",
          "text": [
            "WARNING:tensorflow:sample_weight modes were coerced from\n",
            "  ...\n",
            "    to  \n",
            "  ['...']\n",
            "WARNING:tensorflow:sample_weight modes were coerced from\n",
            "  ...\n",
            "    to  \n",
            "  ['...']\n",
            "Train for 100 steps, validate for 50 steps\n",
            "Epoch 1/20\n",
            "100/100 [==============================] - 32s 319ms/step - loss: 1.1280 - acc: 0.8420 - val_loss: 0.2207 - val_acc: 0.9530\n",
            "Epoch 2/20\n",
            "100/100 [==============================] - 19s 195ms/step - loss: 0.3203 - acc: 0.8840 - val_loss: 0.4121 - val_acc: 0.8970\n",
            "Epoch 3/20\n",
            "100/100 [==============================] - 19s 192ms/step - loss: 0.2253 - acc: 0.9050 - val_loss: 0.3865 - val_acc: 0.8940\n",
            "Epoch 4/20\n",
            "100/100 [==============================] - 19s 192ms/step - loss: 0.2222 - acc: 0.9090 - val_loss: 0.1253 - val_acc: 0.9710\n",
            "Epoch 5/20\n",
            "100/100 [==============================] - 20s 195ms/step - loss: 0.2339 - acc: 0.8985 - val_loss: 0.2080 - val_acc: 0.9400\n",
            "Epoch 6/20\n",
            "100/100 [==============================] - 20s 197ms/step - loss: 0.1967 - acc: 0.9075 - val_loss: 0.1374 - val_acc: 0.9610\n",
            "Epoch 7/20\n",
            "100/100 [==============================] - 20s 197ms/step - loss: 0.2094 - acc: 0.9140 - val_loss: 0.1882 - val_acc: 0.9530\n",
            "Epoch 8/20\n",
            "100/100 [==============================] - 20s 197ms/step - loss: 0.1930 - acc: 0.9210 - val_loss: 0.1331 - val_acc: 0.9680\n",
            "Epoch 9/20\n",
            "100/100 [==============================] - 19s 194ms/step - loss: 0.1822 - acc: 0.9285 - val_loss: 0.2034 - val_acc: 0.9450\n",
            "Epoch 10/20\n",
            "100/100 [==============================] - 19s 192ms/step - loss: 0.1875 - acc: 0.9230 - val_loss: 0.1362 - val_acc: 0.9690\n",
            "Epoch 11/20\n",
            "100/100 [==============================] - 19s 193ms/step - loss: 0.1832 - acc: 0.9265 - val_loss: 0.1307 - val_acc: 0.9650\n",
            "Epoch 12/20\n",
            "100/100 [==============================] - 19s 193ms/step - loss: 0.1818 - acc: 0.9290 - val_loss: 0.1723 - val_acc: 0.9510\n",
            "Epoch 13/20\n",
            "100/100 [==============================] - 20s 195ms/step - loss: 0.1738 - acc: 0.9310 - val_loss: 0.1137 - val_acc: 0.9620\n",
            "Epoch 14/20\n",
            "100/100 [==============================] - 19s 191ms/step - loss: 0.1859 - acc: 0.9165 - val_loss: 0.1473 - val_acc: 0.9620\n",
            "Epoch 15/20\n",
            "100/100 [==============================] - 20s 199ms/step - loss: 0.1612 - acc: 0.9355 - val_loss: 0.1787 - val_acc: 0.9590\n",
            "Epoch 16/20\n",
            "100/100 [==============================] - 20s 198ms/step - loss: 0.1671 - acc: 0.9235 - val_loss: 0.1046 - val_acc: 0.9690\n",
            "Epoch 17/20\n",
            "100/100 [==============================] - 19s 192ms/step - loss: 0.1753 - acc: 0.9265 - val_loss: 0.2060 - val_acc: 0.9510\n",
            "Epoch 18/20\n",
            "100/100 [==============================] - 20s 195ms/step - loss: 0.1619 - acc: 0.9370 - val_loss: 0.2047 - val_acc: 0.9480\n",
            "Epoch 19/20\n",
            "100/100 [==============================] - 19s 190ms/step - loss: 0.1504 - acc: 0.9380 - val_loss: 0.1723 - val_acc: 0.9510\n",
            "Epoch 20/20\n",
            "100/100 [==============================] - 19s 194ms/step - loss: 0.1443 - acc: 0.9430 - val_loss: 0.1162 - val_acc: 0.9690\n"
          ],
          "name": "stdout"
        }
      ]
    },
    {
      "cell_type": "markdown",
      "metadata": {
        "id": "IXQ-u9Rdj3r1",
        "colab_type": "text"
      },
      "source": [
        "We can easily access the training and validation results through the `History` callback. Below we plot the accuracy and loss for training and validation."
      ]
    },
    {
      "cell_type": "code",
      "metadata": {
        "id": "EFjoeWodUNE5",
        "colab_type": "code",
        "outputId": "4ff5cd0b-d314-412b-8a5e-3dd231216e06",
        "colab": {
          "base_uri": "https://localhost:8080/",
          "height": 469
        }
      },
      "source": [
        "acc = history.history['acc']\n",
        "val_acc = history.history['val_acc']\n",
        "loss = history.history['loss']\n",
        "val_loss = history.history['val_loss']\n",
        "\n",
        "epochs = range(len(acc))\n",
        "\n",
        "plt.rcdefaults()\n",
        "plt.plot(epochs, acc, 'r', label='Train Acc.')\n",
        "plt.plot(epochs, val_acc, 'b', label='Validation Acc.')\n",
        "plt.title('Training and Validation Accuracy')\n",
        "plt.legend(loc=0)\n",
        "plt.figure()\n",
        "\n",
        "plt.show()"
      ],
      "execution_count": 0,
      "outputs": [
        {
          "output_type": "display_data",
          "data": {
            "image/png": "[encoded data removed]",
            "text/plain": [
              "<Figure size 640x480 with 1 Axes>"
            ]
          },
          "metadata": {
            "tags": []
          }
        },
        {
          "output_type": "display_data",
          "data": {
            "text/plain": [
              "<Figure size 640x480 with 0 Axes>"
            ]
          },
          "metadata": {
            "tags": []
          }
        }
      ]
    },
    {
      "cell_type": "code",
      "metadata": {
        "id": "1_BDxdb8W9dv",
        "colab_type": "code",
        "colab": {}
      },
      "source": [
        ""
      ],
      "execution_count": 0,
      "outputs": []
    }
  ]
}