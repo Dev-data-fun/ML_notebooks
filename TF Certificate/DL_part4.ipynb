{
  "nbformat": 4,
  "nbformat_minor": 0,
  "metadata": {
    "colab": {
      "name": "DL_part4.ipynb",
      "provenance": []
    },
    "kernelspec": {
      "name": "python3",
      "display_name": "Python 3"
    }
  },
  "cells": [
    {
      "cell_type": "markdown",
      "metadata": {
        "id": "FHT-Z4wNviEa",
        "colab_type": "text"
      },
      "source": [
        "Category 5 of the TF certification exam is a sequence model with a real-world numeric dataset. This notebook covers preparing time-series data using windowing, as well as the structure for an effective prediction model."
      ]
    },
    {
      "cell_type": "code",
      "metadata": {
        "id": "XcmaBtu0leg_",
        "colab_type": "code",
        "colab": {
          "base_uri": "https://localhost:8080/",
          "height": 34
        },
        "outputId": "1a8a27fd-829f-4f7e-fe3d-499ac57dd937"
      },
      "source": [
        "try:\n",
        "  # %tensorflow_version only exists in Colab.\n",
        "  %tensorflow_version 2.x\n",
        "except Exception:\n",
        "  pass\n",
        "import tensorflow as tf\n",
        "import numpy as np\n",
        "import matplotlib.pyplot as plt\n",
        "import csv\n",
        "\n",
        "from tensorflow import keras as k"
      ],
      "execution_count": 1,
      "outputs": [
        {
          "output_type": "stream",
          "text": [
            "TensorFlow 2.x selected.\n"
          ],
          "name": "stdout"
        }
      ]
    },
    {
      "cell_type": "code",
      "metadata": {
        "id": "tGXUWaFaUUwR",
        "colab_type": "code",
        "colab": {
          "base_uri": "https://localhost:8080/",
          "height": 228
        },
        "outputId": "cb20fe1b-32db-42e9-a2fd-4b5c8d2ae4b9"
      },
      "source": [
        "!wget --no-check-certificate \\\n",
        "    https://storage.googleapis.com/laurencemoroney-blog.appspot.com/Sunspots.csv \\\n",
        "    -O /tmp/sunspots.csv"
      ],
      "execution_count": 2,
      "outputs": [
        {
          "output_type": "stream",
          "text": [
            "--2020-03-19 12:13:12--  https://storage.googleapis.com/laurencemoroney-blog.appspot.com/Sunspots.csv\n",
            "Resolving storage.googleapis.com (storage.googleapis.com)... 172.217.204.128, 2607:f8b0:400c:c10::80\n",
            "Connecting to storage.googleapis.com (storage.googleapis.com)|172.217.204.128|:443... connected.\n",
            "HTTP request sent, awaiting response... 200 OK\n",
            "Length: 70827 (69K) [application/octet-stream]\n",
            "Saving to: ‘/tmp/sunspots.csv’\n",
            "\n",
            "\r/tmp/sunspots.csv     0%[                    ]       0  --.-KB/s               \r/tmp/sunspots.csv   100%[===================>]  69.17K  --.-KB/s    in 0s      \n",
            "\n",
            "2020-03-19 12:13:13 (148 MB/s) - ‘/tmp/sunspots.csv’ saved [70827/70827]\n",
            "\n"
          ],
          "name": "stdout"
        }
      ]
    },
    {
      "cell_type": "markdown",
      "metadata": {
        "id": "dXRc9-E882bx",
        "colab_type": "text"
      },
      "source": [
        "The sunspots Kaggle dataset is used for this notebook. It is a csv file containing 3 values, the first corresponds to the timestep, the second is the date the measurement was taken and the third is the average number of sunspots over that period.\n",
        "\n",
        "We use the python csv reader for this, but we could just as easily use pandas."
      ]
    },
    {
      "cell_type": "code",
      "metadata": {
        "id": "4mCvgAWeUY9l",
        "colab_type": "code",
        "colab": {}
      },
      "source": [
        "sunspots = []\n",
        "timesteps = []\n",
        "\n",
        "# Build data\n",
        "with open('/tmp/sunspots.csv') as csvfile:\n",
        "  reader = csv.reader(csvfile, delimiter=',')\n",
        "  next(reader)\n",
        "  for row in reader:\n",
        "    sunspots.append(float(row[2]))\n",
        "    timesteps.append(int(row[0]))\n",
        "    \n",
        "# Cast to array\n",
        "series = np.array(sunspots)\n",
        "steps = np.array(timesteps)"
      ],
      "execution_count": 0,
      "outputs": []
    },
    {
      "cell_type": "code",
      "metadata": {
        "id": "ROpxTMY2ojiI",
        "colab_type": "code",
        "colab": {}
      },
      "source": [
        "# How many time steps to use for training\n",
        "split_time = 3000\n",
        "\n",
        "# Split train/val on this\n",
        "time_train = steps[:split_time]\n",
        "x_train = series[:split_time]\n",
        "\n",
        "time_val = steps[split_time:]\n",
        "x_val = series[split_time:]"
      ],
      "execution_count": 0,
      "outputs": []
    },
    {
      "cell_type": "markdown",
      "metadata": {
        "id": "iEsIcZcM7UYB",
        "colab_type": "text"
      },
      "source": [
        "Tensorflow datasets have the `window` method which conviently creates windowed batches of our data. For example, suppose our dataset was:\n",
        "\n",
        "[1, 2, 3, 4, 5, 6, 7, 8]\n",
        "\n",
        "The `window_size` specifies the size of the window, the `shift` specifies the stride. Drop remainder drops batches which are smaller than the `window_size`. So, if we have a window size of 5, and a stride of 1, we will produce the following:\n",
        "\n",
        "[1, 2, 3, 4, 5]\n",
        "\n",
        "[2, 3, 4, 5, 6]\n",
        "\n",
        "[3, 4, 5, 6, 7]\n",
        "\n",
        "etc.\n",
        "\n",
        "This is returned as a dataset of datasets, which can be mapped to a single batched dataset using the `flat_map` method.\n",
        "\n",
        "The reason we are adding 1 to the window_size is the final value is what we aim to predict."
      ]
    },
    {
      "cell_type": "code",
      "metadata": {
        "id": "mhs0m4uSo9Xe",
        "colab_type": "code",
        "colab": {}
      },
      "source": [
        "def window_ds(series, window_size, batch_size, shuffle_buffer):\n",
        "  # Expand dim for passing to Conv1D\n",
        "  series = tf.expand_dims(series, axis=-1)\n",
        "  # Build ds from tensor slices\n",
        "  ds = tf.data.Dataset.from_tensor_slices(series)\n",
        "  # Create a window dataset, drop batches smaller than the window size\n",
        "  ds = ds.window(window_size + 1, shift=1, drop_remainder=True)\n",
        "  # window returns a dataset of datasets, flat_map casts this to\n",
        "  # a single dataset conveniently\n",
        "  ds = ds.flat_map(lambda win: win.batch(window_size + 1))\n",
        "  # Must shuffle - we don't want the time series in sequential order\n",
        "  ds = ds.shuffle(shuffle_buffer)\n",
        "  # Map first X elements as input, last element as output\n",
        "  ds = ds.map(lambda win: (win[:-1], win[-1:]))\n",
        "  # Batch the data and prefetch a single batch\n",
        "  return ds.batch(batch_size).prefetch(1)"
      ],
      "execution_count": 0,
      "outputs": []
    },
    {
      "cell_type": "code",
      "metadata": {
        "id": "x2jJsBp_v7Z4",
        "colab_type": "code",
        "colab": {}
      },
      "source": [
        "# Clears internal variables\n",
        "tf.keras.backend.clear_session()\n",
        "# Reproducibility\n",
        "tf.random.set_seed(51)\n",
        "np.random.seed(51)\n",
        "\n",
        "window_size = 64\n",
        "batch_size = 256\n",
        "buffer_size = 1000\n",
        "\n",
        "window_train = window_ds(x_train, window_size, batch_size, buffer_size)"
      ],
      "execution_count": 0,
      "outputs": []
    },
    {
      "cell_type": "markdown",
      "metadata": {
        "id": "JCTMt6aS-0Hh",
        "colab_type": "text"
      },
      "source": [
        "To effectively model temporal data, we make use of 1D convolutions, as well as LSTMs and fully connected layers. One could remove the convolution layer, but the overall testing error increases.\n",
        "\n",
        "The keras `Lambda` layer is a nifty trick for using lamda functions inside our model. The predictions range up to about 400, so it would be beneficial to manually multiply this, so that the rest of the model can work with smaller values (as opposed to having to predict a larger value at the end, it can predict a smaller value which we will multiply)."
      ]
    },
    {
      "cell_type": "code",
      "metadata": {
        "id": "Cle6rDaZxkFC",
        "colab_type": "code",
        "colab": {}
      },
      "source": [
        "model = k.models.Sequential([\n",
        "    # One should always use causal padding for temporal data\n",
        "    # see here: https://arxiv.org/abs/1609.03499\n",
        "    # (causal only available to Conv1D)\n",
        "    k.layers.Conv1D(filters = 32, kernel_size=5, strides=1,\n",
        "                    padding='causal', activation='relu',\n",
        "                    input_shape=[None, 1]),\n",
        "    # Return sequences when passing to another LSTM\n",
        "    k.layers.LSTM(64, return_sequences=True),\n",
        "    k.layers.LSTM(64),\n",
        "    k.layers.Dense(30, activation=\"relu\"),\n",
        "    k.layers.Dense(10, activation=\"relu\"),\n",
        "    k.layers.Dense(1),\n",
        "    # You can (and should) experiment with removing this layer\n",
        "    # to see the impact on training.\n",
        "    k.layers.Lambda(lambda x: x * 400)\n",
        "])"
      ],
      "execution_count": 0,
      "outputs": []
    },
    {
      "cell_type": "markdown",
      "metadata": {
        "id": "YoYJpJtXCMKz",
        "colab_type": "text"
      },
      "source": [
        "We now define a learning rate scheduler callback. This will train the model using various learning rates, with the goal being to determine which LR is the optimal. We begin with a LR of `1e-7` and increment it slowly over 100 epochs until we reach `1e-2`. After this we will plot the loss for each LR, and use the plot to pick an optimal value. This obviously isn't needed all the time (get it), but time series are often fragile and we should try find an optimal value without just taking a blind guess."
      ]
    },
    {
      "cell_type": "code",
      "metadata": {
        "id": "LcFQd1B21QL_",
        "colab_type": "code",
        "colab": {}
      },
      "source": [
        "# LR scheduler for finding optimal LR\n",
        "lr_schedule = k.callbacks.LearningRateScheduler(\n",
        "    lambda epoch: 1e-7 * 10**(epoch / 20))"
      ],
      "execution_count": 0,
      "outputs": []
    },
    {
      "cell_type": "code",
      "metadata": {
        "id": "0h9ezWdb3KTg",
        "colab_type": "code",
        "colab": {}
      },
      "source": [
        "# The course uses SGD here but I found Adam resulted in \n",
        "# a lower mae and much quicker convergence\n",
        "optimizer = k.optimizers.Adam(lr=1e-7)\n",
        "\n",
        "model.compile(loss=k.losses.Huber(),\n",
        "              optimizer=optimizer,\n",
        "              metrics=[\"mae\"])"
      ],
      "execution_count": 0,
      "outputs": []
    },
    {
      "cell_type": "code",
      "metadata": {
        "id": "wlWguGi83XeF",
        "colab_type": "code",
        "colab": {}
      },
      "source": [
        "# Will take some time, set verbose=1 to see loss at each epoch\n",
        "history = model.fit(window_train, epochs=100, callbacks=[lr_schedule], verbose=0)"
      ],
      "execution_count": 0,
      "outputs": []
    },
    {
      "cell_type": "markdown",
      "metadata": {
        "id": "H2RB0xY2E5-R",
        "colab_type": "text"
      },
      "source": [
        "We now plot the LR vs loss, we can see a LR between `1e-4` and `1e-3` would be sufficient. Anything greater and we begin to see instability, which we obviously do not want. Let us choose `1e-3`."
      ]
    },
    {
      "cell_type": "code",
      "metadata": {
        "id": "DZuD9w1J3Zn8",
        "colab_type": "code",
        "colab": {
          "base_uri": "https://localhost:8080/",
          "height": 290
        },
        "outputId": "08291065-5453-4fd7-df95-cb567aa19e95"
      },
      "source": [
        "# Plot the LR vs Loss to pick an optimal value\n",
        "plt.semilogx(history.history[\"lr\"], history.history[\"loss\"])\n",
        "plt.axis([1e-7, 1e-2, 0, 100])"
      ],
      "execution_count": 27,
      "outputs": [
        {
          "output_type": "execute_result",
          "data": {
            "text/plain": [
              "(1e-07, 0.01, 0.0, 100.0)"
            ]
          },
          "metadata": {
            "tags": []
          },
          "execution_count": 27
        },
        {
          "output_type": "display_data",
          "data": {
            "image/png": "[encoded data removed]",
            "text/plain": [
              "<Figure size 432x288 with 1 Axes>"
            ]
          },
          "metadata": {
            "tags": []
          }
        }
      ]
    },
    {
      "cell_type": "markdown",
      "metadata": {
        "id": "lDsDTmpPDN_d",
        "colab_type": "text"
      },
      "source": [
        "Now that we have chosen an optimal LR, we recreate our model and train it using this LR."
      ]
    },
    {
      "cell_type": "code",
      "metadata": {
        "id": "le2r2Luq5Geu",
        "colab_type": "code",
        "colab": {}
      },
      "source": [
        "# Clears internal variables\n",
        "tf.keras.backend.clear_session()\n",
        "# Reproducibility\n",
        "tf.random.set_seed(51)\n",
        "np.random.seed(51)\n",
        "\n",
        "window_size = 64\n",
        "batch_size = 256\n",
        "buffer_size = 1000\n",
        "\n",
        "window_train = window_ds(x_train, window_size, batch_size, buffer_size)"
      ],
      "execution_count": 0,
      "outputs": []
    },
    {
      "cell_type": "code",
      "metadata": {
        "id": "VEHnTVg35ORf",
        "colab_type": "code",
        "colab": {}
      },
      "source": [
        "model = k.models.Sequential([\n",
        "    k.layers.Conv1D(filters = 32, kernel_size=5, strides=1,\n",
        "                    padding='causal', activation='relu',\n",
        "                    input_shape=[None, 1]),\n",
        "    # Return sequences when passing to another LSTM\n",
        "    # One could also make this bidirectional\n",
        "    k.layers.LSTM(64, return_sequences=True),\n",
        "    k.layers.LSTM(64),\n",
        "    k.layers.Dense(30, activation=\"relu\"),\n",
        "    k.layers.Dense(10, activation=\"relu\"),\n",
        "    k.layers.Dense(1),\n",
        "    k.layers.Lambda(lambda x: x * 400)\n",
        "])"
      ],
      "execution_count": 0,
      "outputs": []
    },
    {
      "cell_type": "code",
      "metadata": {
        "id": "ETXAF6ZoAFBy",
        "colab_type": "code",
        "colab": {}
      },
      "source": [
        "optimizer = k.optimizers.Adam(lr=1e-3)\n",
        "\n",
        "\n",
        "model.compile(loss=k.losses.Huber(),\n",
        "              optimizer=optimizer,\n",
        "              metrics=[\"mae\"])"
      ],
      "execution_count": 0,
      "outputs": []
    },
    {
      "cell_type": "code",
      "metadata": {
        "id": "ibpKERE9AFRK",
        "colab_type": "code",
        "colab": {
          "base_uri": "https://localhost:8080/",
          "height": 1000
        },
        "outputId": "475888e8-3cbc-421d-d13d-e98a1e7752b4"
      },
      "source": [
        "history = model.fit(window_train, epochs=100)"
      ],
      "execution_count": 12,
      "outputs": [
        {
          "output_type": "stream",
          "text": [
            "Epoch 1/100\n",
            "12/12 [==============================] - 7s 565ms/step - loss: 41.7824 - mae: 43.1454\n",
            "Epoch 2/100\n",
            "12/12 [==============================] - 4s 349ms/step - loss: 23.0706 - mae: 23.7757\n",
            "Epoch 3/100\n",
            "12/12 [==============================] - 4s 350ms/step - loss: 19.7744 - mae: 20.3395\n",
            "Epoch 4/100\n",
            "12/12 [==============================] - 4s 346ms/step - loss: 18.0418 - mae: 18.4824\n",
            "Epoch 5/100\n",
            "12/12 [==============================] - 4s 346ms/step - loss: 18.2148 - mae: 18.6802\n",
            "Epoch 6/100\n",
            "12/12 [==============================] - 4s 350ms/step - loss: 19.2087 - mae: 19.8151\n",
            "Epoch 7/100\n",
            "12/12 [==============================] - 4s 349ms/step - loss: 18.0499 - mae: 18.4758\n",
            "Epoch 8/100\n",
            "12/12 [==============================] - 4s 350ms/step - loss: 17.7227 - mae: 18.1785\n",
            "Epoch 9/100\n",
            "12/12 [==============================] - 4s 351ms/step - loss: 17.3860 - mae: 17.8892\n",
            "Epoch 10/100\n",
            "12/12 [==============================] - 4s 351ms/step - loss: 17.4437 - mae: 17.9549\n",
            "Epoch 11/100\n",
            "12/12 [==============================] - 4s 350ms/step - loss: 17.6647 - mae: 18.0796\n",
            "Epoch 12/100\n",
            "12/12 [==============================] - 4s 350ms/step - loss: 16.8884 - mae: 17.3267\n",
            "Epoch 13/100\n",
            "12/12 [==============================] - 4s 348ms/step - loss: 17.1048 - mae: 17.6260\n",
            "Epoch 14/100\n",
            "12/12 [==============================] - 4s 348ms/step - loss: 16.7842 - mae: 17.3657\n",
            "Epoch 15/100\n",
            "12/12 [==============================] - 4s 355ms/step - loss: 16.5166 - mae: 16.9533\n",
            "Epoch 16/100\n",
            "12/12 [==============================] - 4s 353ms/step - loss: 16.7851 - mae: 17.2461\n",
            "Epoch 17/100\n",
            "12/12 [==============================] - 4s 350ms/step - loss: 16.5392 - mae: 17.0210\n",
            "Epoch 18/100\n",
            "12/12 [==============================] - 4s 355ms/step - loss: 16.6233 - mae: 17.1204\n",
            "Epoch 19/100\n",
            "12/12 [==============================] - 4s 352ms/step - loss: 17.2926 - mae: 17.7509\n",
            "Epoch 20/100\n",
            "12/12 [==============================] - 4s 355ms/step - loss: 16.7411 - mae: 17.1441\n",
            "Epoch 21/100\n",
            "12/12 [==============================] - 4s 355ms/step - loss: 16.3380 - mae: 16.9135\n",
            "Epoch 22/100\n",
            "12/12 [==============================] - 4s 351ms/step - loss: 16.2855 - mae: 16.6839\n",
            "Epoch 23/100\n",
            "12/12 [==============================] - 4s 354ms/step - loss: 16.3739 - mae: 16.8201\n",
            "Epoch 24/100\n",
            "12/12 [==============================] - 4s 353ms/step - loss: 16.7445 - mae: 17.1941\n",
            "Epoch 25/100\n",
            "12/12 [==============================] - 4s 352ms/step - loss: 17.1404 - mae: 17.6595\n",
            "Epoch 26/100\n",
            "12/12 [==============================] - 4s 354ms/step - loss: 17.3050 - mae: 17.8013\n",
            "Epoch 27/100\n",
            "12/12 [==============================] - 4s 350ms/step - loss: 16.5268 - mae: 17.0908\n",
            "Epoch 28/100\n",
            "12/12 [==============================] - 4s 351ms/step - loss: 16.4257 - mae: 16.9491\n",
            "Epoch 29/100\n",
            "12/12 [==============================] - 4s 350ms/step - loss: 16.5877 - mae: 17.1029\n",
            "Epoch 30/100\n",
            "12/12 [==============================] - 4s 352ms/step - loss: 16.2757 - mae: 16.8042\n",
            "Epoch 31/100\n",
            "12/12 [==============================] - 4s 353ms/step - loss: 16.3518 - mae: 16.9268\n",
            "Epoch 32/100\n",
            "12/12 [==============================] - 4s 350ms/step - loss: 16.0841 - mae: 16.5622\n",
            "Epoch 33/100\n",
            "12/12 [==============================] - 4s 351ms/step - loss: 16.7719 - mae: 17.2134\n",
            "Epoch 34/100\n",
            "12/12 [==============================] - 4s 350ms/step - loss: 16.2959 - mae: 16.7891\n",
            "Epoch 35/100\n",
            "12/12 [==============================] - 4s 352ms/step - loss: 15.7129 - mae: 16.2907\n",
            "Epoch 36/100\n",
            "12/12 [==============================] - 4s 356ms/step - loss: 15.9505 - mae: 16.3738\n",
            "Epoch 37/100\n",
            "12/12 [==============================] - 4s 363ms/step - loss: 16.7457 - mae: 17.2773\n",
            "Epoch 38/100\n",
            "12/12 [==============================] - 4s 360ms/step - loss: 16.0933 - mae: 16.5762\n",
            "Epoch 39/100\n",
            "12/12 [==============================] - 4s 351ms/step - loss: 15.6601 - mae: 16.2130\n",
            "Epoch 40/100\n",
            "12/12 [==============================] - 4s 348ms/step - loss: 16.1041 - mae: 16.5494\n",
            "Epoch 41/100\n",
            "12/12 [==============================] - 4s 353ms/step - loss: 16.7658 - mae: 17.2531\n",
            "Epoch 42/100\n",
            "12/12 [==============================] - 4s 351ms/step - loss: 16.8001 - mae: 17.2848\n",
            "Epoch 43/100\n",
            "12/12 [==============================] - 4s 353ms/step - loss: 17.1689 - mae: 17.6366\n",
            "Epoch 44/100\n",
            "12/12 [==============================] - 4s 349ms/step - loss: 16.0974 - mae: 16.7151\n",
            "Epoch 45/100\n",
            "12/12 [==============================] - 4s 351ms/step - loss: 15.8076 - mae: 16.3075\n",
            "Epoch 46/100\n",
            "12/12 [==============================] - 4s 351ms/step - loss: 15.9609 - mae: 16.3634\n",
            "Epoch 47/100\n",
            "12/12 [==============================] - 4s 349ms/step - loss: 16.0849 - mae: 16.6038\n",
            "Epoch 48/100\n",
            "12/12 [==============================] - 4s 352ms/step - loss: 16.7098 - mae: 17.0765\n",
            "Epoch 49/100\n",
            "12/12 [==============================] - 4s 348ms/step - loss: 15.9777 - mae: 16.5288\n",
            "Epoch 50/100\n",
            "12/12 [==============================] - 4s 346ms/step - loss: 16.1452 - mae: 16.6268\n",
            "Epoch 51/100\n",
            "12/12 [==============================] - 4s 350ms/step - loss: 15.7440 - mae: 16.2653\n",
            "Epoch 52/100\n",
            "12/12 [==============================] - 4s 348ms/step - loss: 15.9908 - mae: 16.4254\n",
            "Epoch 53/100\n",
            "12/12 [==============================] - 4s 348ms/step - loss: 16.0234 - mae: 16.5282\n",
            "Epoch 54/100\n",
            "12/12 [==============================] - 4s 351ms/step - loss: 15.7646 - mae: 16.2533\n",
            "Epoch 55/100\n",
            "12/12 [==============================] - 4s 349ms/step - loss: 15.6272 - mae: 16.0021\n",
            "Epoch 56/100\n",
            "12/12 [==============================] - 4s 364ms/step - loss: 15.7803 - mae: 16.2879\n",
            "Epoch 57/100\n",
            "12/12 [==============================] - 4s 353ms/step - loss: 15.8285 - mae: 16.3360\n",
            "Epoch 58/100\n",
            "12/12 [==============================] - 4s 352ms/step - loss: 15.8411 - mae: 16.3283\n",
            "Epoch 59/100\n",
            "12/12 [==============================] - 4s 351ms/step - loss: 16.0088 - mae: 16.5072\n",
            "Epoch 60/100\n",
            "12/12 [==============================] - 4s 349ms/step - loss: 16.5255 - mae: 17.0602\n",
            "Epoch 61/100\n",
            "12/12 [==============================] - 4s 348ms/step - loss: 16.5808 - mae: 17.0832\n",
            "Epoch 62/100\n",
            "12/12 [==============================] - 4s 350ms/step - loss: 16.0240 - mae: 16.4958\n",
            "Epoch 63/100\n",
            "12/12 [==============================] - 4s 349ms/step - loss: 15.9809 - mae: 16.5300\n",
            "Epoch 64/100\n",
            "12/12 [==============================] - 4s 348ms/step - loss: 16.1873 - mae: 16.5317\n",
            "Epoch 65/100\n",
            "12/12 [==============================] - 4s 348ms/step - loss: 15.3013 - mae: 15.8719\n",
            "Epoch 66/100\n",
            "12/12 [==============================] - 4s 349ms/step - loss: 15.6196 - mae: 16.0818\n",
            "Epoch 67/100\n",
            "12/12 [==============================] - 4s 349ms/step - loss: 15.2396 - mae: 15.8093\n",
            "Epoch 68/100\n",
            "12/12 [==============================] - 4s 352ms/step - loss: 15.1787 - mae: 15.6451\n",
            "Epoch 69/100\n",
            "12/12 [==============================] - 4s 358ms/step - loss: 15.6583 - mae: 16.1667\n",
            "Epoch 70/100\n",
            "12/12 [==============================] - 4s 349ms/step - loss: 15.6928 - mae: 16.1347\n",
            "Epoch 71/100\n",
            "12/12 [==============================] - 4s 352ms/step - loss: 15.9109 - mae: 16.2816\n",
            "Epoch 72/100\n",
            "12/12 [==============================] - 4s 355ms/step - loss: 15.6566 - mae: 16.0477\n",
            "Epoch 73/100\n",
            "12/12 [==============================] - 4s 351ms/step - loss: 15.4804 - mae: 15.9303\n",
            "Epoch 74/100\n",
            "12/12 [==============================] - 4s 351ms/step - loss: 15.4745 - mae: 15.9649\n",
            "Epoch 75/100\n",
            "12/12 [==============================] - 4s 350ms/step - loss: 15.1973 - mae: 15.6803\n",
            "Epoch 76/100\n",
            "12/12 [==============================] - 4s 348ms/step - loss: 14.8318 - mae: 15.3718\n",
            "Epoch 77/100\n",
            "12/12 [==============================] - 4s 348ms/step - loss: 14.8614 - mae: 15.3530\n",
            "Epoch 78/100\n",
            "12/12 [==============================] - 4s 352ms/step - loss: 15.4119 - mae: 15.8513\n",
            "Epoch 79/100\n",
            "12/12 [==============================] - 4s 349ms/step - loss: 15.3977 - mae: 15.9280\n",
            "Epoch 80/100\n",
            "12/12 [==============================] - 4s 348ms/step - loss: 15.7386 - mae: 16.1208\n",
            "Epoch 81/100\n",
            "12/12 [==============================] - 4s 353ms/step - loss: 15.5350 - mae: 16.1371\n",
            "Epoch 82/100\n",
            "12/12 [==============================] - 4s 346ms/step - loss: 15.4037 - mae: 15.9175\n",
            "Epoch 83/100\n",
            "12/12 [==============================] - 4s 352ms/step - loss: 15.1624 - mae: 15.6792\n",
            "Epoch 84/100\n",
            "12/12 [==============================] - 4s 350ms/step - loss: 14.9789 - mae: 15.4415\n",
            "Epoch 85/100\n",
            "12/12 [==============================] - 4s 348ms/step - loss: 14.5330 - mae: 15.0889\n",
            "Epoch 86/100\n",
            "12/12 [==============================] - 4s 351ms/step - loss: 14.9706 - mae: 15.4898\n",
            "Epoch 87/100\n",
            "12/12 [==============================] - 4s 350ms/step - loss: 15.0442 - mae: 15.5575\n",
            "Epoch 88/100\n",
            "12/12 [==============================] - 4s 353ms/step - loss: 14.8635 - mae: 15.2403\n",
            "Epoch 89/100\n",
            "12/12 [==============================] - 4s 353ms/step - loss: 14.6106 - mae: 14.9892\n",
            "Epoch 90/100\n",
            "12/12 [==============================] - 4s 350ms/step - loss: 14.7134 - mae: 15.0629\n",
            "Epoch 91/100\n",
            "12/12 [==============================] - 4s 351ms/step - loss: 14.8269 - mae: 15.1216\n",
            "Epoch 92/100\n",
            "12/12 [==============================] - 4s 347ms/step - loss: 14.9446 - mae: 15.3939\n",
            "Epoch 93/100\n",
            "12/12 [==============================] - 4s 350ms/step - loss: 14.7735 - mae: 15.2013\n",
            "Epoch 94/100\n",
            "12/12 [==============================] - 4s 351ms/step - loss: 14.6211 - mae: 15.0417\n",
            "Epoch 95/100\n",
            "12/12 [==============================] - 4s 347ms/step - loss: 14.3077 - mae: 14.7539\n",
            "Epoch 96/100\n",
            "12/12 [==============================] - 4s 348ms/step - loss: 14.5127 - mae: 15.0604\n",
            "Epoch 97/100\n",
            "12/12 [==============================] - 4s 346ms/step - loss: 14.6318 - mae: 15.1429\n",
            "Epoch 98/100\n",
            "12/12 [==============================] - 4s 347ms/step - loss: 14.4818 - mae: 14.9329\n",
            "Epoch 99/100\n",
            "12/12 [==============================] - 4s 354ms/step - loss: 14.3350 - mae: 14.7375\n",
            "Epoch 100/100\n",
            "12/12 [==============================] - 4s 346ms/step - loss: 14.3364 - mae: 14.7933\n"
          ],
          "name": "stdout"
        }
      ]
    },
    {
      "cell_type": "markdown",
      "metadata": {
        "id": "q9zPmeebDs53",
        "colab_type": "text"
      },
      "source": [
        "With the model trained we are ready for prediction. "
      ]
    },
    {
      "cell_type": "code",
      "metadata": {
        "id": "M3AvWd7DASHG",
        "colab_type": "code",
        "colab": {}
      },
      "source": [
        "def model_forecast(model, series, window_size):\n",
        "    # For generating the prediction forecast of our model\n",
        "    ds = tf.data.Dataset.from_tensor_slices(series)\n",
        "    # Don't need to add 1 to window_size as we are not splitting\n",
        "    # into input/output\n",
        "    ds = ds.window(window_size, shift=1, drop_remainder=True)\n",
        "    ds = ds.flat_map(lambda w: w.batch(window_size))\n",
        "    ds = ds.batch(32).prefetch(1)\n",
        "    # Get prediction\n",
        "    forecast = model.predict(ds)\n",
        "\n",
        "    return forecast"
      ],
      "execution_count": 0,
      "outputs": []
    },
    {
      "cell_type": "code",
      "metadata": {
        "id": "a_YB9OfMEIZS",
        "colab_type": "code",
        "colab": {}
      },
      "source": [
        "# Pass the series to the model, adding an extra dimension in the process\n",
        "forecast = model_forecast(model, series[..., np.newaxis], window_size)\n",
        "# We are interested in how well the model predicts on data it has\n",
        "# not yet seen, so we remove the training period it was trained over\n",
        "val_forecast = forecast[split_time - window_size:-1, -1]"
      ],
      "execution_count": 0,
      "outputs": []
    },
    {
      "cell_type": "code",
      "metadata": {
        "id": "VowsvSegQJYV",
        "colab_type": "code",
        "colab": {}
      },
      "source": [
        "def plot_series(time, series, format=\"-\", start=0, end=None):\n",
        "    plt.plot(time[start:end], series[start:end], format)\n",
        "    plt.xlabel(\"Time\")\n",
        "    plt.ylabel(\"Value\")\n",
        "    plt.grid(True)"
      ],
      "execution_count": 0,
      "outputs": []
    },
    {
      "cell_type": "code",
      "metadata": {
        "id": "F8qo2GQRHNNB",
        "colab_type": "code",
        "colab": {
          "base_uri": "https://localhost:8080/",
          "height": 388
        },
        "outputId": "a11f8abb-9d07-4d6e-a2e2-0210d816dac8"
      },
      "source": [
        "# Plot the forecast against the actual values\n",
        "plt.figure(figsize=(10, 6))\n",
        "plot_series(time_val, x_val)\n",
        "plot_series(time_val, val_forecast)"
      ],
      "execution_count": 16,
      "outputs": [
        {
          "output_type": "display_data",
          "data": {
            "image/png": "[encoded data removed]",
            "text/plain": [
              "<Figure size 720x432 with 1 Axes>"
            ]
          },
          "metadata": {
            "tags": []
          }
        }
      ]
    },
    {
      "cell_type": "code",
      "metadata": {
        "id": "81mlAdq7H5FH",
        "colab_type": "code",
        "colab": {
          "base_uri": "https://localhost:8080/",
          "height": 34
        },
        "outputId": "56052e87-39c6-4f0a-8633-96e63dc40c52"
      },
      "source": [
        "# Check what our mae is against the validation period\n",
        "tf.keras.metrics.mean_absolute_error(x_val, val_forecast).numpy()"
      ],
      "execution_count": 17,
      "outputs": [
        {
          "output_type": "execute_result",
          "data": {
            "text/plain": [
              "14.639927"
            ]
          },
          "metadata": {
            "tags": []
          },
          "execution_count": 17
        }
      ]
    },
    {
      "cell_type": "markdown",
      "metadata": {
        "id": "Efg72GjmITwZ",
        "colab_type": "text"
      },
      "source": [
        "And finally, as usual, we can plot the results of our training."
      ]
    },
    {
      "cell_type": "code",
      "metadata": {
        "id": "VAVPrvy7IrTJ",
        "colab_type": "code",
        "colab": {
          "base_uri": "https://localhost:8080/",
          "height": 330
        },
        "outputId": "87dba176-a5e1-457d-e841-2e091c8be113"
      },
      "source": [
        "import matplotlib.image  as mpimg\n",
        "\n",
        "loss = history.history['loss']\n",
        "\n",
        "epochs = range(len(loss))\n",
        "\n",
        "plt.plot(epochs, loss, 'r')\n",
        "plt.title('Training loss')\n",
        "plt.xlabel(\"Epochs\")\n",
        "plt.ylabel(\"Loss\")\n",
        "plt.legend([\"Loss\"])\n",
        "\n",
        "plt.figure()\n"
      ],
      "execution_count": 18,
      "outputs": [
        {
          "output_type": "execute_result",
          "data": {
            "text/plain": [
              "<Figure size 432x288 with 0 Axes>"
            ]
          },
          "metadata": {
            "tags": []
          },
          "execution_count": 18
        },
        {
          "output_type": "display_data",
          "data": {
            "image/png": "[encoded data removed]",
            "text/plain": [
              "<Figure size 432x288 with 1 Axes>"
            ]
          },
          "metadata": {
            "tags": []
          }
        },
        {
          "output_type": "display_data",
          "data": {
            "text/plain": [
              "<Figure size 432x288 with 0 Axes>"
            ]
          },
          "metadata": {
            "tags": []
          }
        }
      ]
    }
  ]
}